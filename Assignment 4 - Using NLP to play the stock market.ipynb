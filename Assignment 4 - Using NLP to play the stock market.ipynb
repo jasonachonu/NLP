{
 "cells": [
  {
   "cell_type": "markdown",
   "metadata": {},
   "source": [
    "# Assignment 4 - Using NLP to play the stock market\n",
    "\n",
    "In this assignment, we'll use everything we've learned to analyze corporate news and pick stocks. Be aware that in this assignment, we're trying to beat the benchmark of random chance (aka better than 50%).\n",
    "\n",
    "This assignment will involve building three models:\n",
    "\n",
    "**1. An RNN based on word inputs**\n",
    "\n",
    "**2. A CNN based on character inputs**\n",
    "\n",
    "**3. A neural net architecture that merges the previous two models**\n",
    "\n",
    "You will apply these models to predicting whether a stock return will be positive or negative in the same day of a news publication.\n",
    "\n",
    "## Your X - Reuters news data\n",
    "\n",
    "Reuters is a news outlet that reports on corporations, among many other things. Stored in the `news_reuters.csv` file is news data listed in columns. The corresponding columns are the `ticker`, `name of company`, `date of publication`, `headline`, `first sentence`, and `news category`.\n",
    "\n",
    "In this assignment it is up to you to decide how to clean this dataset. For instance, many of the first sentences contain a location name showing where the reporting is done. This is largely irrevant information and will probably just make your data noisier. You can also choose to subset on a certain news category, which might enhance your model performance and also limit the size of your data.\n",
    "\n",
    "## Your Y - Stock information from Yahoo! Finance\n",
    "\n",
    "Trading data from Yahoo! Finance was collected and then normalized using the [S&P 500](https://en.wikipedia.org/wiki/S%26P_500_Index). This is stored in the `stockReturns.json` file. \n",
    "\n",
    "In our dataset, the ticker for the S&P is `^GSPC`. Each ticker is compared the S&P and then judged on whether it is outperforming (positive value) or under-performing (negative value) the S&P. Each value is reported on a daily interval from 2004 to now.\n",
    "\n",
    "Below is a diagram of the data in the json file. Note there are three types of data: short: 1 day return, mid: 7 day return, long 28 day return.\n",
    "\n",
    "```\n",
    "          term (short/mid/long)\n",
    "         /         |         \\\n",
    "   ticker A   ticker B   ticker C\n",
    "      /   \\      /   \\      /   \\\n",
    "  date1 date2 date1 date2 date1 date2\n",
    "```\n",
    "\n",
    "You will need to pick a length of time to focus on (day, week, month). You are welcome to train models on each dataset as well.  \n",
    "\n",
    "Transform the return data such that the outcome will be binary:\n",
    "\n",
    "```\n",
    "label[y < 0] = 0\n",
    "label[y >= 0] = 1\n",
    "```\n",
    "\n",
    "Finally, this data needs needs to be joined on the date and ticker - For each date of news publication, we want to join the corresponding corporation's news on its return information. We make the assumption that the day's return will reflect the sentiment of the news, regardless of timing.\n",
    "\n",
    "\n",
    "# Your models - RNN, CNN, and RNN+CNN\n",
    "\n",
    "For your RNN model, it needs to be based on word inputs, embedding the word inputs, encoding them with an RNN layer, and finally a decoding step (such as softmax or some other choice).\n",
    "\n",
    "Your CNN model will be based on characters. For reference on how to do this, look at the CNN class demonstration in the course repository.\n",
    "\n",
    "Finally you will combine the architecture for both of these models, either [merging](https://github.com/ShadyF/cnn-rnn-classifier) using the [Functional API](https://keras.io/getting-started/functional-api-guide/) or [stacking](http://www.aclweb.org/anthology/S17-2134). See the links for reference.\n",
    "\n",
    "For each of these models, you will need to:\n",
    "1. Create a train and test set, retaining the same test set for every model\n",
    "2. Show the architecture for each model, printing it in your python notebook\n",
    "2. Report the peformance according to some metric\n",
    "3. Compare the performance of all of these models in a table (precision and recall)\n",
    "4. Look at your labeling and print out the underlying data compared to the labels - for each model print out 2-3 examples of a good classification and a bad classification. Make an assertion why your model does well or poorly on those outputs.\n",
    "5. For each model, calculate the return from the three most probable positive stock returns. Compare it to the actual return. Print this information in a table.\n",
    "\n",
    "### Good luck!"
   ]
  },
  {
   "cell_type": "markdown",
   "metadata": {},
   "source": [
    "## Model 1: RNN"
   ]
  },
  {
   "cell_type": "code",
   "execution_count": 1,
   "metadata": {
    "collapsed": true
   },
   "outputs": [],
   "source": [
    "import json\n",
    "import pandas as pd\n",
    "from sklearn.metrics import precision_recall_fscore_support\n",
    "#json.loads()"
   ]
  },
  {
   "cell_type": "code",
   "execution_count": 2,
   "metadata": {
    "collapsed": true
   },
   "outputs": [],
   "source": [
    "## Reading in the New reuters dataset and assigning it to X variable\n",
    "X = pd.read_csv('news_reuters.csv')\n",
    "X.columns = ['ticker', 'name of company', 'date of publication', 'headline', 'first sentence', 'news category']"
   ]
  },
  {
   "cell_type": "code",
   "execution_count": 3,
   "metadata": {},
   "outputs": [
    {
     "data": {
      "text/html": [
       "<div>\n",
       "<style>\n",
       "    .dataframe thead tr:only-child th {\n",
       "        text-align: right;\n",
       "    }\n",
       "\n",
       "    .dataframe thead th {\n",
       "        text-align: left;\n",
       "    }\n",
       "\n",
       "    .dataframe tbody tr th {\n",
       "        vertical-align: top;\n",
       "    }\n",
       "</style>\n",
       "<table border=\"1\" class=\"dataframe\">\n",
       "  <thead>\n",
       "    <tr style=\"text-align: right;\">\n",
       "      <th></th>\n",
       "      <th>ticker</th>\n",
       "      <th>name of company</th>\n",
       "      <th>date of publication</th>\n",
       "      <th>headline</th>\n",
       "      <th>first sentence</th>\n",
       "      <th>news category</th>\n",
       "    </tr>\n",
       "  </thead>\n",
       "  <tbody>\n",
       "    <tr>\n",
       "      <th>0</th>\n",
       "      <td>AA</td>\n",
       "      <td>Alcoa Corporation</td>\n",
       "      <td>20110708</td>\n",
       "      <td>Global markets weekahead: Lacking conviction</td>\n",
       "      <td>LONDON Investors are unlikely to gain strong c...</td>\n",
       "      <td>normal</td>\n",
       "    </tr>\n",
       "    <tr>\n",
       "      <th>1</th>\n",
       "      <td>AA</td>\n",
       "      <td>Alcoa Corporation</td>\n",
       "      <td>20110708</td>\n",
       "      <td>Jobs halt Wall Street rally  investors eye ear...</td>\n",
       "      <td>NEW YORK Stocks fell on Friday as a weak jobs ...</td>\n",
       "      <td>topStory</td>\n",
       "    </tr>\n",
       "    <tr>\n",
       "      <th>2</th>\n",
       "      <td>AA</td>\n",
       "      <td>Alcoa Corporation</td>\n",
       "      <td>20110708</td>\n",
       "      <td>REFILE-TABLE-Australia's top carbon polluters</td>\n",
       "      <td>CANBERRA  July 8 Following is a list of Austr...</td>\n",
       "      <td>normal</td>\n",
       "    </tr>\n",
       "    <tr>\n",
       "      <th>3</th>\n",
       "      <td>AA</td>\n",
       "      <td>Alcoa Corporation</td>\n",
       "      <td>20110708</td>\n",
       "      <td>US STOCKS-Jobs data hits stocks  but earnings ...</td>\n",
       "      <td>* Google slumps on downgrade  one of Nasdaq's...</td>\n",
       "      <td>normal</td>\n",
       "    </tr>\n",
       "    <tr>\n",
       "      <th>4</th>\n",
       "      <td>AA</td>\n",
       "      <td>Alcoa Corporation</td>\n",
       "      <td>20110708</td>\n",
       "      <td>US STOCKS-Jobs halt Wall St rally  investors e...</td>\n",
       "      <td>* Dow off 0.5 pct  S&amp;P down 0.7 pct  Nasdaq o...</td>\n",
       "      <td>normal</td>\n",
       "    </tr>\n",
       "  </tbody>\n",
       "</table>\n",
       "</div>"
      ],
      "text/plain": [
       "  ticker    name of company  date of publication  \\\n",
       "0     AA  Alcoa Corporation             20110708   \n",
       "1     AA  Alcoa Corporation             20110708   \n",
       "2     AA  Alcoa Corporation             20110708   \n",
       "3     AA  Alcoa Corporation             20110708   \n",
       "4     AA  Alcoa Corporation             20110708   \n",
       "\n",
       "                                            headline  \\\n",
       "0      Global markets weekahead: Lacking conviction    \n",
       "1  Jobs halt Wall Street rally  investors eye ear...   \n",
       "2     REFILE-TABLE-Australia's top carbon polluters    \n",
       "3  US STOCKS-Jobs data hits stocks  but earnings ...   \n",
       "4  US STOCKS-Jobs halt Wall St rally  investors e...   \n",
       "\n",
       "                                      first sentence news category  \n",
       "0  LONDON Investors are unlikely to gain strong c...        normal  \n",
       "1  NEW YORK Stocks fell on Friday as a weak jobs ...      topStory  \n",
       "2   CANBERRA  July 8 Following is a list of Austr...        normal  \n",
       "3   * Google slumps on downgrade  one of Nasdaq's...        normal  \n",
       "4   * Dow off 0.5 pct  S&P down 0.7 pct  Nasdaq o...        normal  "
      ]
     },
     "execution_count": 3,
     "metadata": {},
     "output_type": "execute_result"
    }
   ],
   "source": [
    "X.head()"
   ]
  },
  {
   "cell_type": "code",
   "execution_count": 4,
   "metadata": {},
   "outputs": [
    {
     "data": {
      "text/plain": [
       "(215287, 6)"
      ]
     },
     "execution_count": 4,
     "metadata": {},
     "output_type": "execute_result"
    }
   ],
   "source": [
    "X.shape"
   ]
  },
  {
   "cell_type": "code",
   "execution_count": 5,
   "metadata": {},
   "outputs": [
    {
     "data": {
      "text/html": [
       "<div>\n",
       "<style>\n",
       "    .dataframe thead tr:only-child th {\n",
       "        text-align: right;\n",
       "    }\n",
       "\n",
       "    .dataframe thead th {\n",
       "        text-align: left;\n",
       "    }\n",
       "\n",
       "    .dataframe tbody tr th {\n",
       "        vertical-align: top;\n",
       "    }\n",
       "</style>\n",
       "<table border=\"1\" class=\"dataframe\">\n",
       "  <thead>\n",
       "    <tr style=\"text-align: right;\">\n",
       "      <th></th>\n",
       "      <th>long</th>\n",
       "      <th>mid</th>\n",
       "      <th>short</th>\n",
       "    </tr>\n",
       "  </thead>\n",
       "  <tbody>\n",
       "    <tr>\n",
       "      <th>AAPL</th>\n",
       "      <td>{'20040106': -0.0023, '20040107': -0.0016, '20...</td>\n",
       "      <td>{'20040106': 0.06760000000000001, '20040107': ...</td>\n",
       "      <td>{'20040106': -0.0013000000000000002, '20040107...</td>\n",
       "    </tr>\n",
       "    <tr>\n",
       "      <th>ABB</th>\n",
       "      <td>{'20040106': 0.09630000000000001, '20040107': ...</td>\n",
       "      <td>{'20040106': 0.09340000000000001, '20040107': ...</td>\n",
       "      <td>{'20040106': 0.0015, '20040107': -0.0107000000...</td>\n",
       "    </tr>\n",
       "    <tr>\n",
       "      <th>ABMD</th>\n",
       "      <td>{'20040106': 0.08360000000000001, '20040107': ...</td>\n",
       "      <td>{'20040106': 0.039400000000000004, '20040107':...</td>\n",
       "      <td>{'20040106': 0.0102, '20040107': 0.0217, '2004...</td>\n",
       "    </tr>\n",
       "    <tr>\n",
       "      <th>ABR</th>\n",
       "      <td>{'20040413': 0.0367, '20040414': 0.0053, '2004...</td>\n",
       "      <td>{'20040413': 0.0082, '20040414': 0.01970000000...</td>\n",
       "      <td>{'20040413': 0.013900000000000001, '20040414':...</td>\n",
       "    </tr>\n",
       "    <tr>\n",
       "      <th>ACAD</th>\n",
       "      <td>{'20040602': -0.049300000000000004, '20040603'...</td>\n",
       "      <td>{'20040602': -0.0821, '20040603': -0.0611, '20...</td>\n",
       "      <td>{'20040602': -0.0346, '20040603': -0.0005, '20...</td>\n",
       "    </tr>\n",
       "  </tbody>\n",
       "</table>\n",
       "</div>"
      ],
      "text/plain": [
       "                                                   long  \\\n",
       "AAPL  {'20040106': -0.0023, '20040107': -0.0016, '20...   \n",
       "ABB   {'20040106': 0.09630000000000001, '20040107': ...   \n",
       "ABMD  {'20040106': 0.08360000000000001, '20040107': ...   \n",
       "ABR   {'20040413': 0.0367, '20040414': 0.0053, '2004...   \n",
       "ACAD  {'20040602': -0.049300000000000004, '20040603'...   \n",
       "\n",
       "                                                    mid  \\\n",
       "AAPL  {'20040106': 0.06760000000000001, '20040107': ...   \n",
       "ABB   {'20040106': 0.09340000000000001, '20040107': ...   \n",
       "ABMD  {'20040106': 0.039400000000000004, '20040107':...   \n",
       "ABR   {'20040413': 0.0082, '20040414': 0.01970000000...   \n",
       "ACAD  {'20040602': -0.0821, '20040603': -0.0611, '20...   \n",
       "\n",
       "                                                  short  \n",
       "AAPL  {'20040106': -0.0013000000000000002, '20040107...  \n",
       "ABB   {'20040106': 0.0015, '20040107': -0.0107000000...  \n",
       "ABMD  {'20040106': 0.0102, '20040107': 0.0217, '2004...  \n",
       "ABR   {'20040413': 0.013900000000000001, '20040414':...  \n",
       "ACAD  {'20040602': -0.0346, '20040603': -0.0005, '20...  "
      ]
     },
     "execution_count": 5,
     "metadata": {},
     "output_type": "execute_result"
    }
   ],
   "source": [
    "##Reading in the stock returns and assinging it to stock\n",
    "stock = pd.read_json('stockReturns.json')\n",
    "stock.head()"
   ]
  },
  {
   "cell_type": "code",
   "execution_count": 6,
   "metadata": {},
   "outputs": [
    {
     "data": {
      "text/plain": [
       "Index(['AAPL', 'ABB', 'ABMD', 'ABR', 'ACAD', 'ACAT', 'ACFC', 'ACRX', 'ADMA',\n",
       "       'ADMS',\n",
       "       ...\n",
       "       'WPXP', 'WSFSL', 'WSO.B', 'WU', 'XCO', 'XLNX', 'ZBK', 'ZBRA', 'ZIXI',\n",
       "       '^GSPC'],\n",
       "      dtype='object', length=501)"
      ]
     },
     "execution_count": 6,
     "metadata": {},
     "output_type": "execute_result"
    }
   ],
   "source": [
    "stock.index"
   ]
  },
  {
   "cell_type": "code",
   "execution_count": 7,
   "metadata": {
    "collapsed": true
   },
   "outputs": [],
   "source": [
    "##Assinging the column short in stock to the variable y as the target\n",
    "y = stock['short']"
   ]
  },
  {
   "cell_type": "code",
   "execution_count": 8,
   "metadata": {},
   "outputs": [
    {
     "data": {
      "text/plain": [
       "AAPL    {'20040106': -0.0013000000000000002, '20040107...\n",
       "ABB     {'20040106': 0.0015, '20040107': -0.0107000000...\n",
       "ABMD    {'20040106': 0.0102, '20040107': 0.0217, '2004...\n",
       "ABR     {'20040413': 0.013900000000000001, '20040414':...\n",
       "ACAD    {'20040602': -0.0346, '20040603': -0.0005, '20...\n",
       "Name: short, dtype: object"
      ]
     },
     "execution_count": 8,
     "metadata": {},
     "output_type": "execute_result"
    }
   ],
   "source": [
    "y.head()"
   ]
  },
  {
   "cell_type": "code",
   "execution_count": 9,
   "metadata": {},
   "outputs": [
    {
     "data": {
      "text/plain": [
       "<bound method Series.keys of AAPL     {'20040106': -0.0013000000000000002, '20040107...\n",
       "ABB      {'20040106': 0.0015, '20040107': -0.0107000000...\n",
       "ABMD     {'20040106': 0.0102, '20040107': 0.0217, '2004...\n",
       "ABR      {'20040413': 0.013900000000000001, '20040414':...\n",
       "ACAD     {'20040602': -0.0346, '20040603': -0.0005, '20...\n",
       "ACAT                                                    {}\n",
       "ACFC     {'20041007': 0.0019, '20041008': 0.0302, '2004...\n",
       "ACRX     {'20110215': -0.0129, '20110216': -0.022600000...\n",
       "ADMA     {'20131022': 0.0002, '20131023': 0.0095, '2013...\n",
       "ADMS     {'20140415': -0.0223, '20140416': -0.0247, '20...\n",
       "AEP      {'20040106': -0.0108, '20040107': 0.0065000000...\n",
       "AFA                                                     {}\n",
       "AGIO     {'20130726': 0.0258, '20130730': 0.01560000000...\n",
       "AGN      {'20040106': 0.0023, '20040107': -0.0076, '200...\n",
       "AGR      {'20151222': 0.028, '20151223': 0.039900000000...\n",
       "AGU                                                     {}\n",
       "AHL      {'20040106': -0.0129, '20040107': 0.0013000000...\n",
       "AI       {'20040106': 0.016300000000000002, '20040107':...\n",
       "AINC     {'20141030': 0.0088, '20141031': -0.0043, '201...\n",
       "AIY      {'20130628': 0.0027, '20130702': -0.0016, '201...\n",
       "ALNY     {'20040603': 0.0415, '20040604': 0.0238, '2004...\n",
       "AMDA     {'20140219': 0.16290000000000002, '20140220': ...\n",
       "AMG      {'20040106': 0.0074, '20040107': 0.00900000000...\n",
       "AMGN     {'20040106': 0.0021000000000000003, '20040107'...\n",
       "AMT      {'20040106': 0.0204, '20040107': 0.015, '20040...\n",
       "ANCX     {'20040721': 0.0134, '20040722': 0.0067, '2004...\n",
       "APC      {'20040106': -0.010400000000000001, '20040107'...\n",
       "APOP     {'20180306': -0.022600000000000002, '20180307'...\n",
       "APPS     {'20060711': -0.004, '20060712': 0.0109, '2006...\n",
       "APRI     {'20040106': 0.0184, '20040107': -0.0295000000...\n",
       "                               ...                        \n",
       "VIV      {'20040106': 0.0061, '20040107': -0.0042000000...\n",
       "VIVE     {'20100505': 0.0066, '20100506': 0.0935, '2010...\n",
       "VKTX     {'20160308': 0.011300000000000001, '20160309':...\n",
       "VOD      {'20040106': 0.0142, '20040107': -0.0062000000...\n",
       "VRTSP    {'20170131': -0.003, '20170201': 0.00090000000...\n",
       "VTNR     {'20040106': -0.0013000000000000002, '20040107...\n",
       "VUZI     {'20100407': 0.0059, '20100408': -0.0034000000...\n",
       "VVUS     {'20040106': 0.0434, '20040107': -0.0334, '200...\n",
       "VWR                                                     {}\n",
       "WBA      {'20040106': -0.0077, '20040107': -0.0194, '20...\n",
       "WBMD                                                    {}\n",
       "WDFC     {'20040106': -0.023100000000000002, '20040107'...\n",
       "WETF     {'20040106': -0.0013000000000000002, '20040107...\n",
       "WFC      {'20040106': -0.0046, '20040107': -0.012400000...\n",
       "WHLR     {'20121121': -0.0009000000000000001, '20121127...\n",
       "WHR      {'20040106': -0.0058000000000000005, '20040107...\n",
       "WILN                                                    {}\n",
       "WINS     {'20150923': 0.0021000000000000003, '20150924'...\n",
       "WLTW     {'20040106': 0.0114, '20040107': 0.00650000000...\n",
       "WOOF                                                    {}\n",
       "WPXP     {'20150721': 0.0167, '20150722': -0.0309, '201...\n",
       "WSFSL                                                   {}\n",
       "WSO.B                                                   {}\n",
       "WU       {'20061004': -0.0228, '20061005': -0.0099, '20...\n",
       "XCO                                                     {}\n",
       "XLNX     {'20040106': -0.0074, '20040107': -0.0123, '20...\n",
       "ZBK      {'20130924': -0.0018000000000000002, '20130925...\n",
       "ZBRA     {'20040106': 0.001, '20040107': 0.0142, '20040...\n",
       "ZIXI     {'20040106': 0.060700000000000004, '20040107':...\n",
       "^GSPC    {'20040106': 0.0, '20040107': 0.0, '20040108':...\n",
       "Name: short, Length: 501, dtype: object>"
      ]
     },
     "execution_count": 9,
     "metadata": {},
     "output_type": "execute_result"
    }
   ],
   "source": [
    "y.keys"
   ]
  },
  {
   "cell_type": "code",
   "execution_count": 10,
   "metadata": {
    "collapsed": true
   },
   "outputs": [],
   "source": [
    "##Convert the y value to dataframe\n",
    "y= pd.DataFrame.from_dict(y)"
   ]
  },
  {
   "cell_type": "code",
   "execution_count": 11,
   "metadata": {},
   "outputs": [
    {
     "data": {
      "text/html": [
       "<div>\n",
       "<style>\n",
       "    .dataframe thead tr:only-child th {\n",
       "        text-align: right;\n",
       "    }\n",
       "\n",
       "    .dataframe thead th {\n",
       "        text-align: left;\n",
       "    }\n",
       "\n",
       "    .dataframe tbody tr th {\n",
       "        vertical-align: top;\n",
       "    }\n",
       "</style>\n",
       "<table border=\"1\" class=\"dataframe\">\n",
       "  <thead>\n",
       "    <tr style=\"text-align: right;\">\n",
       "      <th></th>\n",
       "      <th>short</th>\n",
       "    </tr>\n",
       "  </thead>\n",
       "  <tbody>\n",
       "    <tr>\n",
       "      <th>AAPL</th>\n",
       "      <td>{'20040106': -0.0013000000000000002, '20040107...</td>\n",
       "    </tr>\n",
       "    <tr>\n",
       "      <th>ABB</th>\n",
       "      <td>{'20040106': 0.0015, '20040107': -0.0107000000...</td>\n",
       "    </tr>\n",
       "    <tr>\n",
       "      <th>ABMD</th>\n",
       "      <td>{'20040106': 0.0102, '20040107': 0.0217, '2004...</td>\n",
       "    </tr>\n",
       "    <tr>\n",
       "      <th>ABR</th>\n",
       "      <td>{'20040413': 0.013900000000000001, '20040414':...</td>\n",
       "    </tr>\n",
       "    <tr>\n",
       "      <th>ACAD</th>\n",
       "      <td>{'20040602': -0.0346, '20040603': -0.0005, '20...</td>\n",
       "    </tr>\n",
       "  </tbody>\n",
       "</table>\n",
       "</div>"
      ],
      "text/plain": [
       "                                                  short\n",
       "AAPL  {'20040106': -0.0013000000000000002, '20040107...\n",
       "ABB   {'20040106': 0.0015, '20040107': -0.0107000000...\n",
       "ABMD  {'20040106': 0.0102, '20040107': 0.0217, '2004...\n",
       "ABR   {'20040413': 0.013900000000000001, '20040414':...\n",
       "ACAD  {'20040602': -0.0346, '20040603': -0.0005, '20..."
      ]
     },
     "execution_count": 11,
     "metadata": {},
     "output_type": "execute_result"
    }
   ],
   "source": [
    "y.head()"
   ]
  },
  {
   "cell_type": "code",
   "execution_count": 12,
   "metadata": {
    "collapsed": true
   },
   "outputs": [],
   "source": [
    "## Reset y index\n",
    "y.reset_index(inplace=True)"
   ]
  },
  {
   "cell_type": "code",
   "execution_count": 13,
   "metadata": {
    "collapsed": true
   },
   "outputs": [],
   "source": [
    "##convert column short in y to a series\n",
    "ww = y['short'].apply(pd.Series)"
   ]
  },
  {
   "cell_type": "code",
   "execution_count": 14,
   "metadata": {},
   "outputs": [
    {
     "data": {
      "text/html": [
       "<div>\n",
       "<style>\n",
       "    .dataframe thead tr:only-child th {\n",
       "        text-align: right;\n",
       "    }\n",
       "\n",
       "    .dataframe thead th {\n",
       "        text-align: left;\n",
       "    }\n",
       "\n",
       "    .dataframe tbody tr th {\n",
       "        vertical-align: top;\n",
       "    }\n",
       "</style>\n",
       "<table border=\"1\" class=\"dataframe\">\n",
       "  <thead>\n",
       "    <tr style=\"text-align: right;\">\n",
       "      <th></th>\n",
       "      <th>20040106</th>\n",
       "      <th>20040107</th>\n",
       "      <th>20040108</th>\n",
       "      <th>20040109</th>\n",
       "      <th>20040113</th>\n",
       "      <th>20040114</th>\n",
       "      <th>20040115</th>\n",
       "      <th>20040116</th>\n",
       "      <th>20040121</th>\n",
       "      <th>20040122</th>\n",
       "      <th>...</th>\n",
       "      <th>20180405</th>\n",
       "      <th>20180406</th>\n",
       "      <th>20180410</th>\n",
       "      <th>20180411</th>\n",
       "      <th>20180412</th>\n",
       "      <th>20180413</th>\n",
       "      <th>20180417</th>\n",
       "      <th>20180418</th>\n",
       "      <th>20180419</th>\n",
       "      <th>20180420</th>\n",
       "    </tr>\n",
       "  </thead>\n",
       "  <tbody>\n",
       "    <tr>\n",
       "      <th>0</th>\n",
       "      <td>-0.0013</td>\n",
       "      <td>0.0162</td>\n",
       "      <td>0.0311</td>\n",
       "      <td>-0.0089</td>\n",
       "      <td>0.0226</td>\n",
       "      <td>-0.0083</td>\n",
       "      <td>-0.063</td>\n",
       "      <td>-0.0068</td>\n",
       "      <td>-0.0169</td>\n",
       "      <td>-0.0153</td>\n",
       "      <td>...</td>\n",
       "      <td>0.0001</td>\n",
       "      <td>-0.0037</td>\n",
       "      <td>0.0021</td>\n",
       "      <td>0.0009</td>\n",
       "      <td>0.0016</td>\n",
       "      <td>0.0063</td>\n",
       "      <td>0.0031</td>\n",
       "      <td>-0.0031</td>\n",
       "      <td>-0.0230</td>\n",
       "      <td>-0.0333</td>\n",
       "    </tr>\n",
       "    <tr>\n",
       "      <th>1</th>\n",
       "      <td>0.0015</td>\n",
       "      <td>-0.0107</td>\n",
       "      <td>0.1233</td>\n",
       "      <td>-0.0059</td>\n",
       "      <td>0.0376</td>\n",
       "      <td>0.0440</td>\n",
       "      <td>0.026</td>\n",
       "      <td>-0.0482</td>\n",
       "      <td>0.0041</td>\n",
       "      <td>-0.0062</td>\n",
       "      <td>...</td>\n",
       "      <td>0.0114</td>\n",
       "      <td>0.0057</td>\n",
       "      <td>-0.0017</td>\n",
       "      <td>-0.0036</td>\n",
       "      <td>-0.0047</td>\n",
       "      <td>0.0038</td>\n",
       "      <td>0.0015</td>\n",
       "      <td>0.0064</td>\n",
       "      <td>0.0397</td>\n",
       "      <td>0.0057</td>\n",
       "    </tr>\n",
       "    <tr>\n",
       "      <th>2</th>\n",
       "      <td>0.0102</td>\n",
       "      <td>0.0217</td>\n",
       "      <td>0.0130</td>\n",
       "      <td>0.0103</td>\n",
       "      <td>-0.0086</td>\n",
       "      <td>0.0153</td>\n",
       "      <td>-0.011</td>\n",
       "      <td>0.0272</td>\n",
       "      <td>-0.0065</td>\n",
       "      <td>0.0549</td>\n",
       "      <td>...</td>\n",
       "      <td>0.0056</td>\n",
       "      <td>0.0017</td>\n",
       "      <td>0.0247</td>\n",
       "      <td>-0.0075</td>\n",
       "      <td>-0.0064</td>\n",
       "      <td>0.0022</td>\n",
       "      <td>0.0164</td>\n",
       "      <td>0.0096</td>\n",
       "      <td>0.0019</td>\n",
       "      <td>0.0068</td>\n",
       "    </tr>\n",
       "    <tr>\n",
       "      <th>3</th>\n",
       "      <td>NaN</td>\n",
       "      <td>NaN</td>\n",
       "      <td>NaN</td>\n",
       "      <td>NaN</td>\n",
       "      <td>NaN</td>\n",
       "      <td>NaN</td>\n",
       "      <td>NaN</td>\n",
       "      <td>NaN</td>\n",
       "      <td>NaN</td>\n",
       "      <td>NaN</td>\n",
       "      <td>...</td>\n",
       "      <td>-0.0091</td>\n",
       "      <td>0.0176</td>\n",
       "      <td>-0.0200</td>\n",
       "      <td>0.0009</td>\n",
       "      <td>-0.0025</td>\n",
       "      <td>-0.0098</td>\n",
       "      <td>-0.0048</td>\n",
       "      <td>-0.0054</td>\n",
       "      <td>-0.0000</td>\n",
       "      <td>0.0132</td>\n",
       "    </tr>\n",
       "    <tr>\n",
       "      <th>4</th>\n",
       "      <td>NaN</td>\n",
       "      <td>NaN</td>\n",
       "      <td>NaN</td>\n",
       "      <td>NaN</td>\n",
       "      <td>NaN</td>\n",
       "      <td>NaN</td>\n",
       "      <td>NaN</td>\n",
       "      <td>NaN</td>\n",
       "      <td>NaN</td>\n",
       "      <td>NaN</td>\n",
       "      <td>...</td>\n",
       "      <td>-0.0163</td>\n",
       "      <td>-0.0053</td>\n",
       "      <td>0.0559</td>\n",
       "      <td>0.0794</td>\n",
       "      <td>0.0017</td>\n",
       "      <td>-0.0175</td>\n",
       "      <td>0.0357</td>\n",
       "      <td>0.0042</td>\n",
       "      <td>-0.0104</td>\n",
       "      <td>0.0207</td>\n",
       "    </tr>\n",
       "  </tbody>\n",
       "</table>\n",
       "<p>5 rows × 2824 columns</p>\n",
       "</div>"
      ],
      "text/plain": [
       "   20040106  20040107  20040108  20040109  20040113  20040114  20040115  \\\n",
       "0   -0.0013    0.0162    0.0311   -0.0089    0.0226   -0.0083    -0.063   \n",
       "1    0.0015   -0.0107    0.1233   -0.0059    0.0376    0.0440     0.026   \n",
       "2    0.0102    0.0217    0.0130    0.0103   -0.0086    0.0153    -0.011   \n",
       "3       NaN       NaN       NaN       NaN       NaN       NaN       NaN   \n",
       "4       NaN       NaN       NaN       NaN       NaN       NaN       NaN   \n",
       "\n",
       "   20040116  20040121  20040122    ...     20180405  20180406  20180410  \\\n",
       "0   -0.0068   -0.0169   -0.0153    ...       0.0001   -0.0037    0.0021   \n",
       "1   -0.0482    0.0041   -0.0062    ...       0.0114    0.0057   -0.0017   \n",
       "2    0.0272   -0.0065    0.0549    ...       0.0056    0.0017    0.0247   \n",
       "3       NaN       NaN       NaN    ...      -0.0091    0.0176   -0.0200   \n",
       "4       NaN       NaN       NaN    ...      -0.0163   -0.0053    0.0559   \n",
       "\n",
       "   20180411  20180412  20180413  20180417  20180418  20180419  20180420  \n",
       "0    0.0009    0.0016    0.0063    0.0031   -0.0031   -0.0230   -0.0333  \n",
       "1   -0.0036   -0.0047    0.0038    0.0015    0.0064    0.0397    0.0057  \n",
       "2   -0.0075   -0.0064    0.0022    0.0164    0.0096    0.0019    0.0068  \n",
       "3    0.0009   -0.0025   -0.0098   -0.0048   -0.0054   -0.0000    0.0132  \n",
       "4    0.0794    0.0017   -0.0175    0.0357    0.0042   -0.0104    0.0207  \n",
       "\n",
       "[5 rows x 2824 columns]"
      ]
     },
     "execution_count": 14,
     "metadata": {},
     "output_type": "execute_result"
    }
   ],
   "source": [
    "ww.head()"
   ]
  },
  {
   "cell_type": "code",
   "execution_count": 15,
   "metadata": {
    "collapsed": true
   },
   "outputs": [],
   "source": [
    "#assigning the column index in y variable as ticker in ww\n",
    "ww['ticker'] = y['index']"
   ]
  },
  {
   "cell_type": "code",
   "execution_count": 16,
   "metadata": {},
   "outputs": [
    {
     "data": {
      "text/html": [
       "<div>\n",
       "<style>\n",
       "    .dataframe thead tr:only-child th {\n",
       "        text-align: right;\n",
       "    }\n",
       "\n",
       "    .dataframe thead th {\n",
       "        text-align: left;\n",
       "    }\n",
       "\n",
       "    .dataframe tbody tr th {\n",
       "        vertical-align: top;\n",
       "    }\n",
       "</style>\n",
       "<table border=\"1\" class=\"dataframe\">\n",
       "  <thead>\n",
       "    <tr style=\"text-align: right;\">\n",
       "      <th></th>\n",
       "      <th>20040106</th>\n",
       "      <th>20040107</th>\n",
       "      <th>20040108</th>\n",
       "      <th>20040109</th>\n",
       "      <th>20040113</th>\n",
       "      <th>20040114</th>\n",
       "      <th>20040115</th>\n",
       "      <th>20040116</th>\n",
       "      <th>20040121</th>\n",
       "      <th>20040122</th>\n",
       "      <th>...</th>\n",
       "      <th>20180406</th>\n",
       "      <th>20180410</th>\n",
       "      <th>20180411</th>\n",
       "      <th>20180412</th>\n",
       "      <th>20180413</th>\n",
       "      <th>20180417</th>\n",
       "      <th>20180418</th>\n",
       "      <th>20180419</th>\n",
       "      <th>20180420</th>\n",
       "      <th>ticker</th>\n",
       "    </tr>\n",
       "  </thead>\n",
       "  <tbody>\n",
       "    <tr>\n",
       "      <th>0</th>\n",
       "      <td>-0.0013</td>\n",
       "      <td>0.0162</td>\n",
       "      <td>0.0311</td>\n",
       "      <td>-0.0089</td>\n",
       "      <td>0.0226</td>\n",
       "      <td>-0.0083</td>\n",
       "      <td>-0.063</td>\n",
       "      <td>-0.0068</td>\n",
       "      <td>-0.0169</td>\n",
       "      <td>-0.0153</td>\n",
       "      <td>...</td>\n",
       "      <td>-0.0037</td>\n",
       "      <td>0.0021</td>\n",
       "      <td>0.0009</td>\n",
       "      <td>0.0016</td>\n",
       "      <td>0.0063</td>\n",
       "      <td>0.0031</td>\n",
       "      <td>-0.0031</td>\n",
       "      <td>-0.0230</td>\n",
       "      <td>-0.0333</td>\n",
       "      <td>AAPL</td>\n",
       "    </tr>\n",
       "    <tr>\n",
       "      <th>1</th>\n",
       "      <td>0.0015</td>\n",
       "      <td>-0.0107</td>\n",
       "      <td>0.1233</td>\n",
       "      <td>-0.0059</td>\n",
       "      <td>0.0376</td>\n",
       "      <td>0.0440</td>\n",
       "      <td>0.026</td>\n",
       "      <td>-0.0482</td>\n",
       "      <td>0.0041</td>\n",
       "      <td>-0.0062</td>\n",
       "      <td>...</td>\n",
       "      <td>0.0057</td>\n",
       "      <td>-0.0017</td>\n",
       "      <td>-0.0036</td>\n",
       "      <td>-0.0047</td>\n",
       "      <td>0.0038</td>\n",
       "      <td>0.0015</td>\n",
       "      <td>0.0064</td>\n",
       "      <td>0.0397</td>\n",
       "      <td>0.0057</td>\n",
       "      <td>ABB</td>\n",
       "    </tr>\n",
       "    <tr>\n",
       "      <th>2</th>\n",
       "      <td>0.0102</td>\n",
       "      <td>0.0217</td>\n",
       "      <td>0.0130</td>\n",
       "      <td>0.0103</td>\n",
       "      <td>-0.0086</td>\n",
       "      <td>0.0153</td>\n",
       "      <td>-0.011</td>\n",
       "      <td>0.0272</td>\n",
       "      <td>-0.0065</td>\n",
       "      <td>0.0549</td>\n",
       "      <td>...</td>\n",
       "      <td>0.0017</td>\n",
       "      <td>0.0247</td>\n",
       "      <td>-0.0075</td>\n",
       "      <td>-0.0064</td>\n",
       "      <td>0.0022</td>\n",
       "      <td>0.0164</td>\n",
       "      <td>0.0096</td>\n",
       "      <td>0.0019</td>\n",
       "      <td>0.0068</td>\n",
       "      <td>ABMD</td>\n",
       "    </tr>\n",
       "    <tr>\n",
       "      <th>3</th>\n",
       "      <td>NaN</td>\n",
       "      <td>NaN</td>\n",
       "      <td>NaN</td>\n",
       "      <td>NaN</td>\n",
       "      <td>NaN</td>\n",
       "      <td>NaN</td>\n",
       "      <td>NaN</td>\n",
       "      <td>NaN</td>\n",
       "      <td>NaN</td>\n",
       "      <td>NaN</td>\n",
       "      <td>...</td>\n",
       "      <td>0.0176</td>\n",
       "      <td>-0.0200</td>\n",
       "      <td>0.0009</td>\n",
       "      <td>-0.0025</td>\n",
       "      <td>-0.0098</td>\n",
       "      <td>-0.0048</td>\n",
       "      <td>-0.0054</td>\n",
       "      <td>-0.0000</td>\n",
       "      <td>0.0132</td>\n",
       "      <td>ABR</td>\n",
       "    </tr>\n",
       "    <tr>\n",
       "      <th>4</th>\n",
       "      <td>NaN</td>\n",
       "      <td>NaN</td>\n",
       "      <td>NaN</td>\n",
       "      <td>NaN</td>\n",
       "      <td>NaN</td>\n",
       "      <td>NaN</td>\n",
       "      <td>NaN</td>\n",
       "      <td>NaN</td>\n",
       "      <td>NaN</td>\n",
       "      <td>NaN</td>\n",
       "      <td>...</td>\n",
       "      <td>-0.0053</td>\n",
       "      <td>0.0559</td>\n",
       "      <td>0.0794</td>\n",
       "      <td>0.0017</td>\n",
       "      <td>-0.0175</td>\n",
       "      <td>0.0357</td>\n",
       "      <td>0.0042</td>\n",
       "      <td>-0.0104</td>\n",
       "      <td>0.0207</td>\n",
       "      <td>ACAD</td>\n",
       "    </tr>\n",
       "  </tbody>\n",
       "</table>\n",
       "<p>5 rows × 2825 columns</p>\n",
       "</div>"
      ],
      "text/plain": [
       "   20040106  20040107  20040108  20040109  20040113  20040114  20040115  \\\n",
       "0   -0.0013    0.0162    0.0311   -0.0089    0.0226   -0.0083    -0.063   \n",
       "1    0.0015   -0.0107    0.1233   -0.0059    0.0376    0.0440     0.026   \n",
       "2    0.0102    0.0217    0.0130    0.0103   -0.0086    0.0153    -0.011   \n",
       "3       NaN       NaN       NaN       NaN       NaN       NaN       NaN   \n",
       "4       NaN       NaN       NaN       NaN       NaN       NaN       NaN   \n",
       "\n",
       "   20040116  20040121  20040122   ...    20180406  20180410  20180411  \\\n",
       "0   -0.0068   -0.0169   -0.0153   ...     -0.0037    0.0021    0.0009   \n",
       "1   -0.0482    0.0041   -0.0062   ...      0.0057   -0.0017   -0.0036   \n",
       "2    0.0272   -0.0065    0.0549   ...      0.0017    0.0247   -0.0075   \n",
       "3       NaN       NaN       NaN   ...      0.0176   -0.0200    0.0009   \n",
       "4       NaN       NaN       NaN   ...     -0.0053    0.0559    0.0794   \n",
       "\n",
       "   20180412  20180413  20180417  20180418  20180419  20180420  ticker  \n",
       "0    0.0016    0.0063    0.0031   -0.0031   -0.0230   -0.0333    AAPL  \n",
       "1   -0.0047    0.0038    0.0015    0.0064    0.0397    0.0057     ABB  \n",
       "2   -0.0064    0.0022    0.0164    0.0096    0.0019    0.0068    ABMD  \n",
       "3   -0.0025   -0.0098   -0.0048   -0.0054   -0.0000    0.0132     ABR  \n",
       "4    0.0017   -0.0175    0.0357    0.0042   -0.0104    0.0207    ACAD  \n",
       "\n",
       "[5 rows x 2825 columns]"
      ]
     },
     "execution_count": 16,
     "metadata": {},
     "output_type": "execute_result"
    }
   ],
   "source": [
    "ww.head()"
   ]
  },
  {
   "cell_type": "code",
   "execution_count": 17,
   "metadata": {
    "collapsed": true
   },
   "outputs": [],
   "source": [
    "ww.set_index('ticker', inplace=True)"
   ]
  },
  {
   "cell_type": "code",
   "execution_count": 18,
   "metadata": {},
   "outputs": [
    {
     "data": {
      "text/html": [
       "<div>\n",
       "<style>\n",
       "    .dataframe thead tr:only-child th {\n",
       "        text-align: right;\n",
       "    }\n",
       "\n",
       "    .dataframe thead th {\n",
       "        text-align: left;\n",
       "    }\n",
       "\n",
       "    .dataframe tbody tr th {\n",
       "        vertical-align: top;\n",
       "    }\n",
       "</style>\n",
       "<table border=\"1\" class=\"dataframe\">\n",
       "  <thead>\n",
       "    <tr style=\"text-align: right;\">\n",
       "      <th></th>\n",
       "      <th>20040106</th>\n",
       "      <th>20040107</th>\n",
       "      <th>20040108</th>\n",
       "      <th>20040109</th>\n",
       "      <th>20040113</th>\n",
       "      <th>20040114</th>\n",
       "      <th>20040115</th>\n",
       "      <th>20040116</th>\n",
       "      <th>20040121</th>\n",
       "      <th>20040122</th>\n",
       "      <th>...</th>\n",
       "      <th>20180405</th>\n",
       "      <th>20180406</th>\n",
       "      <th>20180410</th>\n",
       "      <th>20180411</th>\n",
       "      <th>20180412</th>\n",
       "      <th>20180413</th>\n",
       "      <th>20180417</th>\n",
       "      <th>20180418</th>\n",
       "      <th>20180419</th>\n",
       "      <th>20180420</th>\n",
       "    </tr>\n",
       "    <tr>\n",
       "      <th>ticker</th>\n",
       "      <th></th>\n",
       "      <th></th>\n",
       "      <th></th>\n",
       "      <th></th>\n",
       "      <th></th>\n",
       "      <th></th>\n",
       "      <th></th>\n",
       "      <th></th>\n",
       "      <th></th>\n",
       "      <th></th>\n",
       "      <th></th>\n",
       "      <th></th>\n",
       "      <th></th>\n",
       "      <th></th>\n",
       "      <th></th>\n",
       "      <th></th>\n",
       "      <th></th>\n",
       "      <th></th>\n",
       "      <th></th>\n",
       "      <th></th>\n",
       "      <th></th>\n",
       "    </tr>\n",
       "  </thead>\n",
       "  <tbody>\n",
       "    <tr>\n",
       "      <th>AAPL</th>\n",
       "      <td>-0.0013</td>\n",
       "      <td>0.0162</td>\n",
       "      <td>0.0311</td>\n",
       "      <td>-0.0089</td>\n",
       "      <td>0.0226</td>\n",
       "      <td>-0.0083</td>\n",
       "      <td>-0.063</td>\n",
       "      <td>-0.0068</td>\n",
       "      <td>-0.0169</td>\n",
       "      <td>-0.0153</td>\n",
       "      <td>...</td>\n",
       "      <td>0.0001</td>\n",
       "      <td>-0.0037</td>\n",
       "      <td>0.0021</td>\n",
       "      <td>0.0009</td>\n",
       "      <td>0.0016</td>\n",
       "      <td>0.0063</td>\n",
       "      <td>0.0031</td>\n",
       "      <td>-0.0031</td>\n",
       "      <td>-0.0230</td>\n",
       "      <td>-0.0333</td>\n",
       "    </tr>\n",
       "    <tr>\n",
       "      <th>ABB</th>\n",
       "      <td>0.0015</td>\n",
       "      <td>-0.0107</td>\n",
       "      <td>0.1233</td>\n",
       "      <td>-0.0059</td>\n",
       "      <td>0.0376</td>\n",
       "      <td>0.0440</td>\n",
       "      <td>0.026</td>\n",
       "      <td>-0.0482</td>\n",
       "      <td>0.0041</td>\n",
       "      <td>-0.0062</td>\n",
       "      <td>...</td>\n",
       "      <td>0.0114</td>\n",
       "      <td>0.0057</td>\n",
       "      <td>-0.0017</td>\n",
       "      <td>-0.0036</td>\n",
       "      <td>-0.0047</td>\n",
       "      <td>0.0038</td>\n",
       "      <td>0.0015</td>\n",
       "      <td>0.0064</td>\n",
       "      <td>0.0397</td>\n",
       "      <td>0.0057</td>\n",
       "    </tr>\n",
       "    <tr>\n",
       "      <th>ABMD</th>\n",
       "      <td>0.0102</td>\n",
       "      <td>0.0217</td>\n",
       "      <td>0.0130</td>\n",
       "      <td>0.0103</td>\n",
       "      <td>-0.0086</td>\n",
       "      <td>0.0153</td>\n",
       "      <td>-0.011</td>\n",
       "      <td>0.0272</td>\n",
       "      <td>-0.0065</td>\n",
       "      <td>0.0549</td>\n",
       "      <td>...</td>\n",
       "      <td>0.0056</td>\n",
       "      <td>0.0017</td>\n",
       "      <td>0.0247</td>\n",
       "      <td>-0.0075</td>\n",
       "      <td>-0.0064</td>\n",
       "      <td>0.0022</td>\n",
       "      <td>0.0164</td>\n",
       "      <td>0.0096</td>\n",
       "      <td>0.0019</td>\n",
       "      <td>0.0068</td>\n",
       "    </tr>\n",
       "    <tr>\n",
       "      <th>ABR</th>\n",
       "      <td>NaN</td>\n",
       "      <td>NaN</td>\n",
       "      <td>NaN</td>\n",
       "      <td>NaN</td>\n",
       "      <td>NaN</td>\n",
       "      <td>NaN</td>\n",
       "      <td>NaN</td>\n",
       "      <td>NaN</td>\n",
       "      <td>NaN</td>\n",
       "      <td>NaN</td>\n",
       "      <td>...</td>\n",
       "      <td>-0.0091</td>\n",
       "      <td>0.0176</td>\n",
       "      <td>-0.0200</td>\n",
       "      <td>0.0009</td>\n",
       "      <td>-0.0025</td>\n",
       "      <td>-0.0098</td>\n",
       "      <td>-0.0048</td>\n",
       "      <td>-0.0054</td>\n",
       "      <td>-0.0000</td>\n",
       "      <td>0.0132</td>\n",
       "    </tr>\n",
       "    <tr>\n",
       "      <th>ACAD</th>\n",
       "      <td>NaN</td>\n",
       "      <td>NaN</td>\n",
       "      <td>NaN</td>\n",
       "      <td>NaN</td>\n",
       "      <td>NaN</td>\n",
       "      <td>NaN</td>\n",
       "      <td>NaN</td>\n",
       "      <td>NaN</td>\n",
       "      <td>NaN</td>\n",
       "      <td>NaN</td>\n",
       "      <td>...</td>\n",
       "      <td>-0.0163</td>\n",
       "      <td>-0.0053</td>\n",
       "      <td>0.0559</td>\n",
       "      <td>0.0794</td>\n",
       "      <td>0.0017</td>\n",
       "      <td>-0.0175</td>\n",
       "      <td>0.0357</td>\n",
       "      <td>0.0042</td>\n",
       "      <td>-0.0104</td>\n",
       "      <td>0.0207</td>\n",
       "    </tr>\n",
       "  </tbody>\n",
       "</table>\n",
       "<p>5 rows × 2824 columns</p>\n",
       "</div>"
      ],
      "text/plain": [
       "        20040106  20040107  20040108  20040109  20040113  20040114  20040115  \\\n",
       "ticker                                                                         \n",
       "AAPL     -0.0013    0.0162    0.0311   -0.0089    0.0226   -0.0083    -0.063   \n",
       "ABB       0.0015   -0.0107    0.1233   -0.0059    0.0376    0.0440     0.026   \n",
       "ABMD      0.0102    0.0217    0.0130    0.0103   -0.0086    0.0153    -0.011   \n",
       "ABR          NaN       NaN       NaN       NaN       NaN       NaN       NaN   \n",
       "ACAD         NaN       NaN       NaN       NaN       NaN       NaN       NaN   \n",
       "\n",
       "        20040116  20040121  20040122    ...     20180405  20180406  20180410  \\\n",
       "ticker                                  ...                                    \n",
       "AAPL     -0.0068   -0.0169   -0.0153    ...       0.0001   -0.0037    0.0021   \n",
       "ABB      -0.0482    0.0041   -0.0062    ...       0.0114    0.0057   -0.0017   \n",
       "ABMD      0.0272   -0.0065    0.0549    ...       0.0056    0.0017    0.0247   \n",
       "ABR          NaN       NaN       NaN    ...      -0.0091    0.0176   -0.0200   \n",
       "ACAD         NaN       NaN       NaN    ...      -0.0163   -0.0053    0.0559   \n",
       "\n",
       "        20180411  20180412  20180413  20180417  20180418  20180419  20180420  \n",
       "ticker                                                                        \n",
       "AAPL      0.0009    0.0016    0.0063    0.0031   -0.0031   -0.0230   -0.0333  \n",
       "ABB      -0.0036   -0.0047    0.0038    0.0015    0.0064    0.0397    0.0057  \n",
       "ABMD     -0.0075   -0.0064    0.0022    0.0164    0.0096    0.0019    0.0068  \n",
       "ABR       0.0009   -0.0025   -0.0098   -0.0048   -0.0054   -0.0000    0.0132  \n",
       "ACAD      0.0794    0.0017   -0.0175    0.0357    0.0042   -0.0104    0.0207  \n",
       "\n",
       "[5 rows x 2824 columns]"
      ]
     },
     "execution_count": 18,
     "metadata": {},
     "output_type": "execute_result"
    }
   ],
   "source": [
    "ww.head()"
   ]
  },
  {
   "cell_type": "code",
   "execution_count": 19,
   "metadata": {
    "collapsed": true
   },
   "outputs": [],
   "source": [
    "##applying stack to ww and assinging the result to new_y\n",
    "new_y = ww.stack()"
   ]
  },
  {
   "cell_type": "code",
   "execution_count": 20,
   "metadata": {},
   "outputs": [
    {
     "data": {
      "text/plain": [
       "ticker          \n",
       "AAPL    20040106   -0.0013\n",
       "        20040107    0.0162\n",
       "        20040108    0.0311\n",
       "        20040109   -0.0089\n",
       "        20040113    0.0226\n",
       "        20040114   -0.0083\n",
       "        20040115   -0.0630\n",
       "        20040116   -0.0068\n",
       "        20040121   -0.0169\n",
       "        20040122   -0.0153\n",
       "        20040123    0.0206\n",
       "        20040127    0.0188\n",
       "        20040128   -0.0134\n",
       "        20040129    0.0042\n",
       "        20040130   -0.0065\n",
       "        20040203   -0.0007\n",
       "        20040204   -0.0198\n",
       "        20040205    0.0263\n",
       "        20040206    0.0059\n",
       "        20040210    0.0040\n",
       "        20040211    0.0248\n",
       "        20040212    0.0049\n",
       "        20040213   -0.0299\n",
       "        20040218    0.0045\n",
       "        20040219   -0.0230\n",
       "        20040220   -0.0066\n",
       "        20040224    0.0110\n",
       "        20040225    0.0143\n",
       "        20040226    0.0080\n",
       "        20040227    0.0440\n",
       "                     ...  \n",
       "^GSPC   20180228    0.0000\n",
       "        20180301    0.0000\n",
       "        20180302    0.0000\n",
       "        20180306    0.0000\n",
       "        20180307    0.0000\n",
       "        20180308    0.0000\n",
       "        20180309    0.0000\n",
       "        20180313    0.0000\n",
       "        20180314    0.0000\n",
       "        20180315    0.0000\n",
       "        20180316    0.0000\n",
       "        20180320    0.0000\n",
       "        20180321    0.0000\n",
       "        20180322    0.0000\n",
       "        20180323    0.0000\n",
       "        20180327    0.0000\n",
       "        20180328    0.0000\n",
       "        20180329    0.0000\n",
       "        20180403    0.0000\n",
       "        20180404    0.0000\n",
       "        20180405    0.0000\n",
       "        20180406    0.0000\n",
       "        20180410    0.0000\n",
       "        20180411    0.0000\n",
       "        20180412    0.0000\n",
       "        20180413    0.0000\n",
       "        20180417    0.0000\n",
       "        20180418    0.0000\n",
       "        20180419    0.0000\n",
       "        20180420    0.0000\n",
       "Length: 908537, dtype: float64"
      ]
     },
     "execution_count": 20,
     "metadata": {},
     "output_type": "execute_result"
    }
   ],
   "source": [
    "new_y"
   ]
  },
  {
   "cell_type": "code",
   "execution_count": 21,
   "metadata": {
    "collapsed": true
   },
   "outputs": [],
   "source": [
    "##Converting to dataframe\n",
    "new_y = new_y.to_frame(name=None)"
   ]
  },
  {
   "cell_type": "code",
   "execution_count": 22,
   "metadata": {},
   "outputs": [
    {
     "data": {
      "text/html": [
       "<div>\n",
       "<style>\n",
       "    .dataframe thead tr:only-child th {\n",
       "        text-align: right;\n",
       "    }\n",
       "\n",
       "    .dataframe thead th {\n",
       "        text-align: left;\n",
       "    }\n",
       "\n",
       "    .dataframe tbody tr th {\n",
       "        vertical-align: top;\n",
       "    }\n",
       "</style>\n",
       "<table border=\"1\" class=\"dataframe\">\n",
       "  <thead>\n",
       "    <tr style=\"text-align: right;\">\n",
       "      <th></th>\n",
       "      <th></th>\n",
       "      <th>0</th>\n",
       "    </tr>\n",
       "    <tr>\n",
       "      <th>ticker</th>\n",
       "      <th></th>\n",
       "      <th></th>\n",
       "    </tr>\n",
       "  </thead>\n",
       "  <tbody>\n",
       "    <tr>\n",
       "      <th rowspan=\"5\" valign=\"top\">AAPL</th>\n",
       "      <th>20040106</th>\n",
       "      <td>-0.0013</td>\n",
       "    </tr>\n",
       "    <tr>\n",
       "      <th>20040107</th>\n",
       "      <td>0.0162</td>\n",
       "    </tr>\n",
       "    <tr>\n",
       "      <th>20040108</th>\n",
       "      <td>0.0311</td>\n",
       "    </tr>\n",
       "    <tr>\n",
       "      <th>20040109</th>\n",
       "      <td>-0.0089</td>\n",
       "    </tr>\n",
       "    <tr>\n",
       "      <th>20040113</th>\n",
       "      <td>0.0226</td>\n",
       "    </tr>\n",
       "  </tbody>\n",
       "</table>\n",
       "</div>"
      ],
      "text/plain": [
       "                      0\n",
       "ticker                 \n",
       "AAPL   20040106 -0.0013\n",
       "       20040107  0.0162\n",
       "       20040108  0.0311\n",
       "       20040109 -0.0089\n",
       "       20040113  0.0226"
      ]
     },
     "execution_count": 22,
     "metadata": {},
     "output_type": "execute_result"
    }
   ],
   "source": [
    "new_y.head()"
   ]
  },
  {
   "cell_type": "code",
   "execution_count": 23,
   "metadata": {
    "collapsed": true
   },
   "outputs": [],
   "source": [
    "##Reseting the index\n",
    "new_y.reset_index(inplace=True)"
   ]
  },
  {
   "cell_type": "code",
   "execution_count": 24,
   "metadata": {},
   "outputs": [
    {
     "data": {
      "text/html": [
       "<div>\n",
       "<style>\n",
       "    .dataframe thead tr:only-child th {\n",
       "        text-align: right;\n",
       "    }\n",
       "\n",
       "    .dataframe thead th {\n",
       "        text-align: left;\n",
       "    }\n",
       "\n",
       "    .dataframe tbody tr th {\n",
       "        vertical-align: top;\n",
       "    }\n",
       "</style>\n",
       "<table border=\"1\" class=\"dataframe\">\n",
       "  <thead>\n",
       "    <tr style=\"text-align: right;\">\n",
       "      <th></th>\n",
       "      <th>ticker</th>\n",
       "      <th>level_1</th>\n",
       "      <th>0</th>\n",
       "    </tr>\n",
       "  </thead>\n",
       "  <tbody>\n",
       "    <tr>\n",
       "      <th>0</th>\n",
       "      <td>AAPL</td>\n",
       "      <td>20040106</td>\n",
       "      <td>-0.0013</td>\n",
       "    </tr>\n",
       "    <tr>\n",
       "      <th>1</th>\n",
       "      <td>AAPL</td>\n",
       "      <td>20040107</td>\n",
       "      <td>0.0162</td>\n",
       "    </tr>\n",
       "    <tr>\n",
       "      <th>2</th>\n",
       "      <td>AAPL</td>\n",
       "      <td>20040108</td>\n",
       "      <td>0.0311</td>\n",
       "    </tr>\n",
       "    <tr>\n",
       "      <th>3</th>\n",
       "      <td>AAPL</td>\n",
       "      <td>20040109</td>\n",
       "      <td>-0.0089</td>\n",
       "    </tr>\n",
       "    <tr>\n",
       "      <th>4</th>\n",
       "      <td>AAPL</td>\n",
       "      <td>20040113</td>\n",
       "      <td>0.0226</td>\n",
       "    </tr>\n",
       "  </tbody>\n",
       "</table>\n",
       "</div>"
      ],
      "text/plain": [
       "  ticker   level_1       0\n",
       "0   AAPL  20040106 -0.0013\n",
       "1   AAPL  20040107  0.0162\n",
       "2   AAPL  20040108  0.0311\n",
       "3   AAPL  20040109 -0.0089\n",
       "4   AAPL  20040113  0.0226"
      ]
     },
     "execution_count": 24,
     "metadata": {},
     "output_type": "execute_result"
    }
   ],
   "source": [
    "new_y.head()"
   ]
  },
  {
   "cell_type": "code",
   "execution_count": 25,
   "metadata": {},
   "outputs": [
    {
     "data": {
      "text/plain": [
       "(908537, 3)"
      ]
     },
     "execution_count": 25,
     "metadata": {},
     "output_type": "execute_result"
    }
   ],
   "source": [
    "new_y.shape"
   ]
  },
  {
   "cell_type": "code",
   "execution_count": 26,
   "metadata": {
    "collapsed": true
   },
   "outputs": [],
   "source": [
    "## Assigning the column name\n",
    "new_y.columns= ['ticker','date of publication','target']"
   ]
  },
  {
   "cell_type": "code",
   "execution_count": 27,
   "metadata": {},
   "outputs": [
    {
     "data": {
      "text/html": [
       "<div>\n",
       "<style>\n",
       "    .dataframe thead tr:only-child th {\n",
       "        text-align: right;\n",
       "    }\n",
       "\n",
       "    .dataframe thead th {\n",
       "        text-align: left;\n",
       "    }\n",
       "\n",
       "    .dataframe tbody tr th {\n",
       "        vertical-align: top;\n",
       "    }\n",
       "</style>\n",
       "<table border=\"1\" class=\"dataframe\">\n",
       "  <thead>\n",
       "    <tr style=\"text-align: right;\">\n",
       "      <th></th>\n",
       "      <th>ticker</th>\n",
       "      <th>date of publication</th>\n",
       "      <th>target</th>\n",
       "    </tr>\n",
       "  </thead>\n",
       "  <tbody>\n",
       "    <tr>\n",
       "      <th>0</th>\n",
       "      <td>AAPL</td>\n",
       "      <td>20040106</td>\n",
       "      <td>-0.0013</td>\n",
       "    </tr>\n",
       "    <tr>\n",
       "      <th>1</th>\n",
       "      <td>AAPL</td>\n",
       "      <td>20040107</td>\n",
       "      <td>0.0162</td>\n",
       "    </tr>\n",
       "    <tr>\n",
       "      <th>2</th>\n",
       "      <td>AAPL</td>\n",
       "      <td>20040108</td>\n",
       "      <td>0.0311</td>\n",
       "    </tr>\n",
       "    <tr>\n",
       "      <th>3</th>\n",
       "      <td>AAPL</td>\n",
       "      <td>20040109</td>\n",
       "      <td>-0.0089</td>\n",
       "    </tr>\n",
       "    <tr>\n",
       "      <th>4</th>\n",
       "      <td>AAPL</td>\n",
       "      <td>20040113</td>\n",
       "      <td>0.0226</td>\n",
       "    </tr>\n",
       "  </tbody>\n",
       "</table>\n",
       "</div>"
      ],
      "text/plain": [
       "  ticker date of publication  target\n",
       "0   AAPL            20040106 -0.0013\n",
       "1   AAPL            20040107  0.0162\n",
       "2   AAPL            20040108  0.0311\n",
       "3   AAPL            20040109 -0.0089\n",
       "4   AAPL            20040113  0.0226"
      ]
     },
     "execution_count": 27,
     "metadata": {},
     "output_type": "execute_result"
    }
   ],
   "source": [
    "new_y.head()"
   ]
  },
  {
   "cell_type": "code",
   "execution_count": 28,
   "metadata": {
    "collapsed": true
   },
   "outputs": [],
   "source": [
    "#function to convert target to 0 or 1\n",
    "\n",
    "def convertLabel(target):\n",
    "    \n",
    "    if target < 0:\n",
    "        return 0\n",
    "    else:\n",
    "        return 1"
   ]
  },
  {
   "cell_type": "code",
   "execution_count": 29,
   "metadata": {
    "collapsed": true
   },
   "outputs": [],
   "source": [
    "new_y['target'] = new_y['target'].apply(convertLabel)"
   ]
  },
  {
   "cell_type": "code",
   "execution_count": 30,
   "metadata": {},
   "outputs": [
    {
     "data": {
      "text/html": [
       "<div>\n",
       "<style>\n",
       "    .dataframe thead tr:only-child th {\n",
       "        text-align: right;\n",
       "    }\n",
       "\n",
       "    .dataframe thead th {\n",
       "        text-align: left;\n",
       "    }\n",
       "\n",
       "    .dataframe tbody tr th {\n",
       "        vertical-align: top;\n",
       "    }\n",
       "</style>\n",
       "<table border=\"1\" class=\"dataframe\">\n",
       "  <thead>\n",
       "    <tr style=\"text-align: right;\">\n",
       "      <th></th>\n",
       "      <th>ticker</th>\n",
       "      <th>date of publication</th>\n",
       "      <th>target</th>\n",
       "    </tr>\n",
       "  </thead>\n",
       "  <tbody>\n",
       "    <tr>\n",
       "      <th>0</th>\n",
       "      <td>AAPL</td>\n",
       "      <td>20040106</td>\n",
       "      <td>0</td>\n",
       "    </tr>\n",
       "    <tr>\n",
       "      <th>1</th>\n",
       "      <td>AAPL</td>\n",
       "      <td>20040107</td>\n",
       "      <td>1</td>\n",
       "    </tr>\n",
       "    <tr>\n",
       "      <th>2</th>\n",
       "      <td>AAPL</td>\n",
       "      <td>20040108</td>\n",
       "      <td>1</td>\n",
       "    </tr>\n",
       "    <tr>\n",
       "      <th>3</th>\n",
       "      <td>AAPL</td>\n",
       "      <td>20040109</td>\n",
       "      <td>0</td>\n",
       "    </tr>\n",
       "    <tr>\n",
       "      <th>4</th>\n",
       "      <td>AAPL</td>\n",
       "      <td>20040113</td>\n",
       "      <td>1</td>\n",
       "    </tr>\n",
       "  </tbody>\n",
       "</table>\n",
       "</div>"
      ],
      "text/plain": [
       "  ticker date of publication  target\n",
       "0   AAPL            20040106       0\n",
       "1   AAPL            20040107       1\n",
       "2   AAPL            20040108       1\n",
       "3   AAPL            20040109       0\n",
       "4   AAPL            20040113       1"
      ]
     },
     "execution_count": 30,
     "metadata": {},
     "output_type": "execute_result"
    }
   ],
   "source": [
    "new_y.head()"
   ]
  },
  {
   "cell_type": "code",
   "execution_count": 31,
   "metadata": {},
   "outputs": [
    {
     "data": {
      "text/html": [
       "<div>\n",
       "<style>\n",
       "    .dataframe thead tr:only-child th {\n",
       "        text-align: right;\n",
       "    }\n",
       "\n",
       "    .dataframe thead th {\n",
       "        text-align: left;\n",
       "    }\n",
       "\n",
       "    .dataframe tbody tr th {\n",
       "        vertical-align: top;\n",
       "    }\n",
       "</style>\n",
       "<table border=\"1\" class=\"dataframe\">\n",
       "  <thead>\n",
       "    <tr style=\"text-align: right;\">\n",
       "      <th></th>\n",
       "      <th>ticker</th>\n",
       "      <th>name of company</th>\n",
       "      <th>date of publication</th>\n",
       "      <th>headline</th>\n",
       "      <th>first sentence</th>\n",
       "      <th>news category</th>\n",
       "    </tr>\n",
       "  </thead>\n",
       "  <tbody>\n",
       "    <tr>\n",
       "      <th>0</th>\n",
       "      <td>AA</td>\n",
       "      <td>Alcoa Corporation</td>\n",
       "      <td>20110708</td>\n",
       "      <td>Global markets weekahead: Lacking conviction</td>\n",
       "      <td>LONDON Investors are unlikely to gain strong c...</td>\n",
       "      <td>normal</td>\n",
       "    </tr>\n",
       "    <tr>\n",
       "      <th>1</th>\n",
       "      <td>AA</td>\n",
       "      <td>Alcoa Corporation</td>\n",
       "      <td>20110708</td>\n",
       "      <td>Jobs halt Wall Street rally  investors eye ear...</td>\n",
       "      <td>NEW YORK Stocks fell on Friday as a weak jobs ...</td>\n",
       "      <td>topStory</td>\n",
       "    </tr>\n",
       "    <tr>\n",
       "      <th>2</th>\n",
       "      <td>AA</td>\n",
       "      <td>Alcoa Corporation</td>\n",
       "      <td>20110708</td>\n",
       "      <td>REFILE-TABLE-Australia's top carbon polluters</td>\n",
       "      <td>CANBERRA  July 8 Following is a list of Austr...</td>\n",
       "      <td>normal</td>\n",
       "    </tr>\n",
       "    <tr>\n",
       "      <th>3</th>\n",
       "      <td>AA</td>\n",
       "      <td>Alcoa Corporation</td>\n",
       "      <td>20110708</td>\n",
       "      <td>US STOCKS-Jobs data hits stocks  but earnings ...</td>\n",
       "      <td>* Google slumps on downgrade  one of Nasdaq's...</td>\n",
       "      <td>normal</td>\n",
       "    </tr>\n",
       "    <tr>\n",
       "      <th>4</th>\n",
       "      <td>AA</td>\n",
       "      <td>Alcoa Corporation</td>\n",
       "      <td>20110708</td>\n",
       "      <td>US STOCKS-Jobs halt Wall St rally  investors e...</td>\n",
       "      <td>* Dow off 0.5 pct  S&amp;P down 0.7 pct  Nasdaq o...</td>\n",
       "      <td>normal</td>\n",
       "    </tr>\n",
       "  </tbody>\n",
       "</table>\n",
       "</div>"
      ],
      "text/plain": [
       "  ticker    name of company  date of publication  \\\n",
       "0     AA  Alcoa Corporation             20110708   \n",
       "1     AA  Alcoa Corporation             20110708   \n",
       "2     AA  Alcoa Corporation             20110708   \n",
       "3     AA  Alcoa Corporation             20110708   \n",
       "4     AA  Alcoa Corporation             20110708   \n",
       "\n",
       "                                            headline  \\\n",
       "0      Global markets weekahead: Lacking conviction    \n",
       "1  Jobs halt Wall Street rally  investors eye ear...   \n",
       "2     REFILE-TABLE-Australia's top carbon polluters    \n",
       "3  US STOCKS-Jobs data hits stocks  but earnings ...   \n",
       "4  US STOCKS-Jobs halt Wall St rally  investors e...   \n",
       "\n",
       "                                      first sentence news category  \n",
       "0  LONDON Investors are unlikely to gain strong c...        normal  \n",
       "1  NEW YORK Stocks fell on Friday as a weak jobs ...      topStory  \n",
       "2   CANBERRA  July 8 Following is a list of Austr...        normal  \n",
       "3   * Google slumps on downgrade  one of Nasdaq's...        normal  \n",
       "4   * Dow off 0.5 pct  S&P down 0.7 pct  Nasdaq o...        normal  "
      ]
     },
     "execution_count": 31,
     "metadata": {},
     "output_type": "execute_result"
    }
   ],
   "source": [
    "X.head()"
   ]
  },
  {
   "cell_type": "code",
   "execution_count": 32,
   "metadata": {},
   "outputs": [
    {
     "data": {
      "text/plain": [
       "ticker                 object\n",
       "name of company        object\n",
       "date of publication     int64\n",
       "headline               object\n",
       "first sentence         object\n",
       "news category          object\n",
       "dtype: object"
      ]
     },
     "execution_count": 32,
     "metadata": {},
     "output_type": "execute_result"
    }
   ],
   "source": [
    "X.dtypes"
   ]
  },
  {
   "cell_type": "code",
   "execution_count": 33,
   "metadata": {},
   "outputs": [
    {
     "data": {
      "text/plain": [
       "ticker                 object\n",
       "date of publication    object\n",
       "target                  int64\n",
       "dtype: object"
      ]
     },
     "execution_count": 33,
     "metadata": {},
     "output_type": "execute_result"
    }
   ],
   "source": [
    "new_y.dtypes"
   ]
  },
  {
   "cell_type": "code",
   "execution_count": 34,
   "metadata": {
    "collapsed": true
   },
   "outputs": [],
   "source": [
    "#convert date of publication to int\n",
    "new_y['date of publication'] = new_y['date of publication'].astype(int)"
   ]
  },
  {
   "cell_type": "code",
   "execution_count": 35,
   "metadata": {},
   "outputs": [
    {
     "data": {
      "text/plain": [
       "ticker                 object\n",
       "date of publication     int64\n",
       "target                  int64\n",
       "dtype: object"
      ]
     },
     "execution_count": 35,
     "metadata": {},
     "output_type": "execute_result"
    }
   ],
   "source": [
    "new_y.dtypes"
   ]
  },
  {
   "cell_type": "code",
   "execution_count": 36,
   "metadata": {
    "collapsed": true
   },
   "outputs": [],
   "source": [
    "## Merge X and new_y into one dataframe\n",
    "df = pd.merge(X,new_y)"
   ]
  },
  {
   "cell_type": "code",
   "execution_count": 37,
   "metadata": {},
   "outputs": [
    {
     "data": {
      "text/html": [
       "<div>\n",
       "<style>\n",
       "    .dataframe thead tr:only-child th {\n",
       "        text-align: right;\n",
       "    }\n",
       "\n",
       "    .dataframe thead th {\n",
       "        text-align: left;\n",
       "    }\n",
       "\n",
       "    .dataframe tbody tr th {\n",
       "        vertical-align: top;\n",
       "    }\n",
       "</style>\n",
       "<table border=\"1\" class=\"dataframe\">\n",
       "  <thead>\n",
       "    <tr style=\"text-align: right;\">\n",
       "      <th></th>\n",
       "      <th>ticker</th>\n",
       "      <th>name of company</th>\n",
       "      <th>date of publication</th>\n",
       "      <th>headline</th>\n",
       "      <th>first sentence</th>\n",
       "      <th>news category</th>\n",
       "      <th>target</th>\n",
       "    </tr>\n",
       "  </thead>\n",
       "  <tbody>\n",
       "    <tr>\n",
       "      <th>0</th>\n",
       "      <td>AAPL</td>\n",
       "      <td>1-800 FLOWERSCOM Inc</td>\n",
       "      <td>20140415</td>\n",
       "      <td>Apple cannot escape U.S. states' e-book antitr...</td>\n",
       "      <td>NEW YORK Apple Inc on Tuesday lost an attempt ...</td>\n",
       "      <td>normal</td>\n",
       "      <td>0</td>\n",
       "    </tr>\n",
       "    <tr>\n",
       "      <th>1</th>\n",
       "      <td>AAPL</td>\n",
       "      <td>1-800 FLOWERSCOM Inc</td>\n",
       "      <td>20140415</td>\n",
       "      <td>Apple cannot escape U.S. states' e-book antitr...</td>\n",
       "      <td>NEW YORK  April 15 Apple Inc on Tuesday lost a...</td>\n",
       "      <td>normal</td>\n",
       "      <td>0</td>\n",
       "    </tr>\n",
       "    <tr>\n",
       "      <th>2</th>\n",
       "      <td>AAPL</td>\n",
       "      <td>1-800 FLOWERSCOM Inc</td>\n",
       "      <td>20140415</td>\n",
       "      <td>Keep Steve Jobs' personality out of trial: tec...</td>\n",
       "      <td>SAN FRANCISCO Witnesses at an upcoming trial o...</td>\n",
       "      <td>topStory</td>\n",
       "      <td>0</td>\n",
       "    </tr>\n",
       "    <tr>\n",
       "      <th>3</th>\n",
       "      <td>AAPL</td>\n",
       "      <td>1-800 FLOWERSCOM Inc</td>\n",
       "      <td>20140415</td>\n",
       "      <td>Smartphone makers  carriers embrace anti-theft...</td>\n",
       "      <td>NEW YORK  April 15 Major U.S. wireless carrier...</td>\n",
       "      <td>normal</td>\n",
       "      <td>0</td>\n",
       "    </tr>\n",
       "    <tr>\n",
       "      <th>4</th>\n",
       "      <td>AAPL</td>\n",
       "      <td>1-800 FLOWERSCOM Inc</td>\n",
       "      <td>20140415</td>\n",
       "      <td>UPDATE 1-Keep Steve Jobs' personality out of t...</td>\n",
       "      <td></td>\n",
       "      <td>normal</td>\n",
       "      <td>0</td>\n",
       "    </tr>\n",
       "  </tbody>\n",
       "</table>\n",
       "</div>"
      ],
      "text/plain": [
       "  ticker       name of company  date of publication  \\\n",
       "0   AAPL  1-800 FLOWERSCOM Inc             20140415   \n",
       "1   AAPL  1-800 FLOWERSCOM Inc             20140415   \n",
       "2   AAPL  1-800 FLOWERSCOM Inc             20140415   \n",
       "3   AAPL  1-800 FLOWERSCOM Inc             20140415   \n",
       "4   AAPL  1-800 FLOWERSCOM Inc             20140415   \n",
       "\n",
       "                                            headline  \\\n",
       "0  Apple cannot escape U.S. states' e-book antitr...   \n",
       "1  Apple cannot escape U.S. states' e-book antitr...   \n",
       "2  Keep Steve Jobs' personality out of trial: tec...   \n",
       "3  Smartphone makers  carriers embrace anti-theft...   \n",
       "4  UPDATE 1-Keep Steve Jobs' personality out of t...   \n",
       "\n",
       "                                      first sentence news category  target  \n",
       "0  NEW YORK Apple Inc on Tuesday lost an attempt ...        normal       0  \n",
       "1  NEW YORK  April 15 Apple Inc on Tuesday lost a...        normal       0  \n",
       "2  SAN FRANCISCO Witnesses at an upcoming trial o...      topStory       0  \n",
       "3  NEW YORK  April 15 Major U.S. wireless carrier...        normal       0  \n",
       "4                                                           normal       0  "
      ]
     },
     "execution_count": 37,
     "metadata": {},
     "output_type": "execute_result"
    }
   ],
   "source": [
    "df.head()"
   ]
  },
  {
   "cell_type": "code",
   "execution_count": 38,
   "metadata": {},
   "outputs": [
    {
     "data": {
      "text/plain": [
       "(30903, 7)"
      ]
     },
     "execution_count": 38,
     "metadata": {},
     "output_type": "execute_result"
    }
   ],
   "source": [
    "df.shape"
   ]
  },
  {
   "cell_type": "code",
   "execution_count": 39,
   "metadata": {},
   "outputs": [
    {
     "data": {
      "text/plain": [
       "\" SEOUL  July 7 Samsung Electronics   the world's top maker of memory chips and televisions  estimated its April-June operating profit would fall 26 percent year on year  as its LCD display business is widely expected to report another loss.\""
      ]
     },
     "execution_count": 39,
     "metadata": {},
     "output_type": "execute_result"
    }
   ],
   "source": [
    "#checking to see which is longer in text, btw headline and first sentence - first sentence is longer\n",
    "df.iloc[22,4]"
   ]
  },
  {
   "cell_type": "code",
   "execution_count": 40,
   "metadata": {},
   "outputs": [
    {
     "data": {
      "text/plain": [
       "'Samsung estimates Q2 profit down 26 pct '"
      ]
     },
     "execution_count": 40,
     "metadata": {},
     "output_type": "execute_result"
    }
   ],
   "source": [
    "df.iloc[22,3]"
   ]
  },
  {
   "cell_type": "code",
   "execution_count": 41,
   "metadata": {
    "collapsed": true
   },
   "outputs": [],
   "source": [
    "## new x and y and then train-test split \n",
    "new_x = df['first sentence']\n",
    "new_y = df['target']"
   ]
  },
  {
   "cell_type": "markdown",
   "metadata": {
    "collapsed": true
   },
   "source": [
    "### Data Preparation\n"
   ]
  },
  {
   "cell_type": "code",
   "execution_count": 42,
   "metadata": {
    "collapsed": true
   },
   "outputs": [],
   "source": [
    "import numpy as np\n",
    "import nltk\n",
    "vocabulary_size = 8000\n",
    "unknown_token = \"UNKNOWN_TOKEN\"\n",
    "sentence_start_token = \"SENTENCE_START\"\n",
    "sentence_end_token = \"SENTENCE_END\"\n",
    "\n",
    "# Tokenize the sentences into words\n",
    "tokenized_sentences = [nltk.word_tokenize(sent) for sent in new_x]"
   ]
  },
  {
   "cell_type": "code",
   "execution_count": 43,
   "metadata": {
    "collapsed": true
   },
   "outputs": [],
   "source": [
    "import itertools"
   ]
  },
  {
   "cell_type": "code",
   "execution_count": 44,
   "metadata": {},
   "outputs": [
    {
     "name": "stdout",
     "output_type": "stream",
     "text": [
      "Found 31889 unique words tokens.\n"
     ]
    }
   ],
   "source": [
    "# Count the word frequencies\n",
    "word_freq = nltk.FreqDist(itertools.chain(*tokenized_sentences))\n",
    "print(\"Found %d unique words tokens.\" % len(word_freq.items()))"
   ]
  },
  {
   "cell_type": "code",
   "execution_count": 45,
   "metadata": {},
   "outputs": [
    {
     "name": "stdout",
     "output_type": "stream",
     "text": [
      "Using vocabulary size 8000.\n",
      "The least frequent word in our vocabulary is 'restructured' and appeared 7 times.\n"
     ]
    }
   ],
   "source": [
    "# Get the most common words and build index_to_word and word_to_index vectors\n",
    "vocab = word_freq.most_common(vocabulary_size-1)\n",
    "index_to_word = [x[0] for x in vocab]\n",
    "index_to_word.append(unknown_token)\n",
    "word_to_index = dict([(w,i) for i,w in enumerate(index_to_word)])\n",
    "\n",
    "print(\"Using vocabulary size %d.\" % vocabulary_size)\n",
    "print(\"The least frequent word in our vocabulary is '%s' and appeared %d times.\" % (vocab[-1][0], vocab[-1][1]))"
   ]
  },
  {
   "cell_type": "code",
   "execution_count": 46,
   "metadata": {},
   "outputs": [
    {
     "name": "stdout",
     "output_type": "stream",
     "text": [
      "\n",
      "Example sentence after Pre-processing: '['NEW', 'YORK', 'Apple', 'Inc', 'on', 'Tuesday', 'lost', 'an', 'attempt', 'to', 'dismiss', 'lawsuits', 'by', 'state', 'attorneys', 'general', 'accusing', 'it', 'of', 'conspiring', 'with', 'five', 'major', 'publishers', 'to', 'fix', 'e-book', 'prices', '.']'\n"
     ]
    }
   ],
   "source": [
    "# Replace all words not in our vocabulary with the unknown token\n",
    "for i, sent in enumerate(tokenized_sentences):\n",
    "    tokenized_sentences[i] = [w if w in word_to_index else unknown_token for w in sent]\n",
    "\n",
    "#print(\"\\nExample sentence: '%s'\" % sentences[0])\n",
    "print(\"\\nExample sentence after Pre-processing: '%s'\" % tokenized_sentences[0])"
   ]
  },
  {
   "cell_type": "code",
   "execution_count": 47,
   "metadata": {},
   "outputs": [
    {
     "data": {
      "text/plain": [
       "list"
      ]
     },
     "execution_count": 47,
     "metadata": {},
     "output_type": "execute_result"
    }
   ],
   "source": [
    "type(tokenized_sentences)"
   ]
  },
  {
   "cell_type": "code",
   "execution_count": 48,
   "metadata": {
    "collapsed": true
   },
   "outputs": [],
   "source": [
    "tokenized_sentences_x = pd.Series(tokenized_sentences)"
   ]
  },
  {
   "cell_type": "code",
   "execution_count": 49,
   "metadata": {},
   "outputs": [
    {
     "data": {
      "text/plain": [
       "pandas.core.series.Series"
      ]
     },
     "execution_count": 49,
     "metadata": {},
     "output_type": "execute_result"
    }
   ],
   "source": [
    "type(tokenized_sentences_x)"
   ]
  },
  {
   "cell_type": "code",
   "execution_count": 50,
   "metadata": {},
   "outputs": [
    {
     "data": {
      "text/plain": [
       "pandas.core.series.Series"
      ]
     },
     "execution_count": 50,
     "metadata": {},
     "output_type": "execute_result"
    }
   ],
   "source": [
    "type(new_x)"
   ]
  },
  {
   "cell_type": "code",
   "execution_count": 51,
   "metadata": {},
   "outputs": [
    {
     "data": {
      "text/plain": [
       "(30903,)"
      ]
     },
     "execution_count": 51,
     "metadata": {},
     "output_type": "execute_result"
    }
   ],
   "source": [
    "new_x.shape"
   ]
  },
  {
   "cell_type": "code",
   "execution_count": 52,
   "metadata": {},
   "outputs": [
    {
     "data": {
      "text/plain": [
       "(30903,)"
      ]
     },
     "execution_count": 52,
     "metadata": {},
     "output_type": "execute_result"
    }
   ],
   "source": [
    "tokenized_sentences_x.shape"
   ]
  },
  {
   "cell_type": "code",
   "execution_count": 53,
   "metadata": {},
   "outputs": [
    {
     "data": {
      "text/plain": [
       "0    [NEW, YORK, Apple, Inc, on, Tuesday, lost, an,...\n",
       "1    [NEW, YORK, April, 15, Apple, Inc, on, Tuesday...\n",
       "2    [SAN, FRANCISCO, UNKNOWN_TOKEN, at, an, upcomi...\n",
       "3    [NEW, YORK, April, 15, Major, U.S., wireless, ...\n",
       "4                                                   []\n",
       "dtype: object"
      ]
     },
     "execution_count": 53,
     "metadata": {},
     "output_type": "execute_result"
    }
   ],
   "source": [
    "tokenized_sentences_x.head()"
   ]
  },
  {
   "cell_type": "code",
   "execution_count": 54,
   "metadata": {
    "collapsed": true
   },
   "outputs": [],
   "source": [
    "# Create the training data\n",
    "X_train_tokenized = np.asarray([[word_to_index[w] for w in sent[:-1]] for sent in tokenized_sentences])"
   ]
  },
  {
   "cell_type": "code",
   "execution_count": 55,
   "metadata": {},
   "outputs": [
    {
     "data": {
      "text/plain": [
       "[43,\n",
       " 44,\n",
       " 26,\n",
       " 11,\n",
       " 6,\n",
       " 37,\n",
       " 758,\n",
       " 35,\n",
       " 995,\n",
       " 1,\n",
       " 1661,\n",
       " 1060,\n",
       " 20,\n",
       " 386,\n",
       " 3338,\n",
       " 1008,\n",
       " 662,\n",
       " 17,\n",
       " 3,\n",
       " 1449,\n",
       " 15,\n",
       " 512,\n",
       " 184,\n",
       " 1267,\n",
       " 1,\n",
       " 2040,\n",
       " 1746,\n",
       " 209]"
      ]
     },
     "execution_count": 55,
     "metadata": {},
     "output_type": "execute_result"
    }
   ],
   "source": [
    "#testing to see if the words were tokenized\n",
    "X_train_tokenized[0]"
   ]
  },
  {
   "cell_type": "code",
   "execution_count": 56,
   "metadata": {},
   "outputs": [
    {
     "data": {
      "text/plain": [
       "array([ list([43, 44, 26, 11, 6, 37, 758, 35, 995, 1, 1661, 1060, 20, 386, 3338, 1008, 662, 17, 3, 1449, 15, 512, 184, 1267, 1, 2040, 1746, 209]),\n",
       "       list([43, 44, 73, 187, 26, 11, 6, 37, 758, 35, 995, 1, 1661, 1060, 20, 386, 3338, 1008, 662, 17, 3, 1449, 15, 512, 184, 1267, 1, 2040, 1746, 209]),\n",
       "       list([95, 106, 7999, 29, 35, 744, 366, 57, 7999, 2071, 5, 1103, 1160, 440, 67, 58, 1647, 1, 264, 1297, 22, 26, 1476, 1040, 1203, 48, 51, 4, 7999, 51, 554, 184, 455, 113, 4458, 5, 4, 108, 312]),\n",
       "       ...,\n",
       "       list([7999, 7055, 97, 7999, 1070, 25, 230, 1, 126, 1184, 2414, 11, 8, 2184, 65, 10, 14, 2093, 30, 5, 330, 0, 294, 626, 50, 276, 179, 119, 15, 0, 1833]),\n",
       "       list([73, 259, 7999, 7055, 97, 7999, 1070, 25, 230, 1, 126, 1184, 2414, 11, 8, 2184, 65, 10, 14, 2093, 30, 5, 330, 0, 294, 626, 50, 276, 179, 119, 15, 0, 1833]),\n",
       "       list([13, 7999, 399, 597, 125, 7, 634, 63, 295, 107])], dtype=object)"
      ]
     },
     "execution_count": 56,
     "metadata": {},
     "output_type": "execute_result"
    }
   ],
   "source": [
    "X_train_tokenized"
   ]
  },
  {
   "cell_type": "code",
   "execution_count": 57,
   "metadata": {
    "collapsed": true
   },
   "outputs": [],
   "source": [
    "### - Everything in data prep seems good"
   ]
  },
  {
   "cell_type": "code",
   "execution_count": 58,
   "metadata": {},
   "outputs": [
    {
     "data": {
      "text/plain": [
       "(30903,)"
      ]
     },
     "execution_count": 58,
     "metadata": {},
     "output_type": "execute_result"
    }
   ],
   "source": [
    "X_train_tokenized.shape"
   ]
  },
  {
   "cell_type": "code",
   "execution_count": 59,
   "metadata": {},
   "outputs": [
    {
     "data": {
      "text/plain": [
       "(30903,)"
      ]
     },
     "execution_count": 59,
     "metadata": {},
     "output_type": "execute_result"
    }
   ],
   "source": [
    "new_y.shape"
   ]
  },
  {
   "cell_type": "code",
   "execution_count": 60,
   "metadata": {},
   "outputs": [
    {
     "data": {
      "text/plain": [
       "(30903,)"
      ]
     },
     "execution_count": 60,
     "metadata": {},
     "output_type": "execute_result"
    }
   ],
   "source": [
    "new_x.shape"
   ]
  },
  {
   "cell_type": "markdown",
   "metadata": {},
   "source": [
    "## Train and Test Split"
   ]
  },
  {
   "cell_type": "code",
   "execution_count": 61,
   "metadata": {
    "collapsed": true
   },
   "outputs": [],
   "source": [
    "#Train Test split \n",
    "from sklearn.model_selection import train_test_split\n",
    "\n",
    "X_train, X_test, y_train, y_test = train_test_split(X_train_tokenized, new_y, test_size=0.3, random_state=0)"
   ]
  },
  {
   "cell_type": "markdown",
   "metadata": {},
   "source": [
    "## Model 1: RNN"
   ]
  },
  {
   "cell_type": "code",
   "execution_count": 62,
   "metadata": {},
   "outputs": [
    {
     "name": "stderr",
     "output_type": "stream",
     "text": [
      "Using TensorFlow backend.\n"
     ]
    }
   ],
   "source": [
    "# truncate and pad input sequences\n",
    "from keras.preprocessing import sequence\n",
    "from keras.preprocessing.sequence import pad_sequences\n",
    "\n",
    "max_review_length = 500\n",
    "X_train = sequence.pad_sequences(X_train, maxlen=max_review_length)\n",
    "X_test = sequence.pad_sequences(X_test, maxlen=max_review_length)"
   ]
  },
  {
   "cell_type": "code",
   "execution_count": 63,
   "metadata": {
    "collapsed": true
   },
   "outputs": [],
   "source": [
    "embedding_vecor_length = 32"
   ]
  },
  {
   "cell_type": "code",
   "execution_count": 64,
   "metadata": {},
   "outputs": [
    {
     "name": "stdout",
     "output_type": "stream",
     "text": [
      "_________________________________________________________________\n",
      "Layer (type)                 Output Shape              Param #   \n",
      "=================================================================\n",
      "embedding_1 (Embedding)      (None, 500, 32)           1020448   \n",
      "_________________________________________________________________\n",
      "dropout_1 (Dropout)          (None, 500, 32)           0         \n",
      "_________________________________________________________________\n",
      "lstm_1 (LSTM)                (None, 100)               53200     \n",
      "_________________________________________________________________\n",
      "dropout_2 (Dropout)          (None, 100)               0         \n",
      "_________________________________________________________________\n",
      "dense_1 (Dense)              (None, 1)                 101       \n",
      "=================================================================\n",
      "Total params: 1,073,749\n",
      "Trainable params: 1,073,749\n",
      "Non-trainable params: 0\n",
      "_________________________________________________________________\n",
      "None\n"
     ]
    }
   ],
   "source": [
    "from keras.models import Sequential\n",
    "import numpy\n",
    "from keras.datasets import imdb\n",
    "from keras.models import Sequential\n",
    "from keras.layers import Dense\n",
    "from keras.layers import LSTM\n",
    "from keras.layers.embeddings import Embedding\n",
    "from keras.preprocessing import sequence\n",
    "from keras.preprocessing import sequence\n",
    "from keras.models import Sequential\n",
    "from keras.layers import Dense, Dropout, Activation\n",
    "from keras.layers import Embedding\n",
    "from keras.layers import LSTM\n",
    "from keras.layers import Conv1D, MaxPooling1D\n",
    "\n",
    "# create the model\n",
    "model = Sequential()\n",
    "\n",
    "model.add(Embedding(31889, embedding_vecor_length, input_length=max_review_length))\n",
    "model.add(Dropout(0.2))\n",
    "model.add(LSTM(100))\n",
    "model.add(Dropout(0.2))\n",
    "model.add(Dense(1, activation='sigmoid'))\n",
    "model.compile(loss='binary_crossentropy', optimizer='adam', metrics=['accuracy'])\n",
    "print(model.summary())"
   ]
  },
  {
   "cell_type": "code",
   "execution_count": 65,
   "metadata": {},
   "outputs": [
    {
     "name": "stdout",
     "output_type": "stream",
     "text": [
      "Epoch 1/3\n",
      "21632/21632 [==============================] - 181s 8ms/step - loss: 0.6913 - acc: 0.5219\n",
      "Epoch 2/3\n",
      "21632/21632 [==============================] - 180s 8ms/step - loss: 0.6401 - acc: 0.6380\n",
      "Epoch 3/3\n",
      "21632/21632 [==============================] - 178s 8ms/step - loss: 0.5431 - acc: 0.7218\n",
      "Accuracy: 61.19%\n"
     ]
    }
   ],
   "source": [
    "#Fit model\n",
    "model.fit(X_train, y_train, epochs=3, batch_size=64)\n",
    "# Final evaluation of the RNN model\n",
    "rnn_scores = model.evaluate(X_test, y_test, verbose=0)\n",
    "print(\"Accuracy: %.2f%%\" % (rnn_scores[1]*100))"
   ]
  },
  {
   "cell_type": "markdown",
   "metadata": {},
   "source": [
    "#### RNN ACCURACY\n"
   ]
  },
  {
   "cell_type": "code",
   "execution_count": 66,
   "metadata": {},
   "outputs": [
    {
     "name": "stdout",
     "output_type": "stream",
     "text": [
      "RNN Accuracy: 61.19%\n"
     ]
    }
   ],
   "source": [
    "scores = model.evaluate(X_test, y_test, verbose=0)\n",
    "print(\"RNN Accuracy: %.2f%%\" % (scores[1]*100))"
   ]
  },
  {
   "cell_type": "code",
   "execution_count": 67,
   "metadata": {
    "collapsed": true
   },
   "outputs": [],
   "source": [
    "y_pred = model.predict(X_test)"
   ]
  },
  {
   "cell_type": "code",
   "execution_count": 68,
   "metadata": {
    "collapsed": true
   },
   "outputs": [],
   "source": [
    "y_pred = (y_pred > 0.5).astype(int)"
   ]
  },
  {
   "cell_type": "code",
   "execution_count": 69,
   "metadata": {
    "collapsed": true
   },
   "outputs": [],
   "source": [
    "rnn_precision_recall = precision_recall_fscore_support(y_test, y_pred, average='micro')"
   ]
  },
  {
   "cell_type": "code",
   "execution_count": 70,
   "metadata": {},
   "outputs": [
    {
     "data": {
      "text/plain": [
       "(0.61190810052852984, 0.61190810052852984, 0.61190810052852984, None)"
      ]
     },
     "execution_count": 70,
     "metadata": {},
     "output_type": "execute_result"
    }
   ],
   "source": [
    "#The the Precision, Recall and Fscore\n",
    "rnn_precision_recall"
   ]
  },
  {
   "cell_type": "code",
   "execution_count": 71,
   "metadata": {},
   "outputs": [
    {
     "name": "stdout",
     "output_type": "stream",
     "text": [
      "RNN Precision score: 61.19%\n"
     ]
    }
   ],
   "source": [
    "print(\"RNN Precision score: %.2f%%\" % (rnn_precision_recall[0]*100))"
   ]
  },
  {
   "cell_type": "code",
   "execution_count": 72,
   "metadata": {},
   "outputs": [
    {
     "name": "stdout",
     "output_type": "stream",
     "text": [
      "RNN Recall score: 61.19%\n"
     ]
    }
   ],
   "source": [
    "print(\"RNN Recall score: %.2f%%\" % (rnn_precision_recall[1]*100))"
   ]
  },
  {
   "cell_type": "code",
   "execution_count": 73,
   "metadata": {},
   "outputs": [
    {
     "name": "stdout",
     "output_type": "stream",
     "text": [
      "RNN F score: 61.19%\n"
     ]
    }
   ],
   "source": [
    "print(\"RNN F score: %.2f%%\" % (rnn_precision_recall[2]*100))"
   ]
  },
  {
   "cell_type": "code",
   "execution_count": 74,
   "metadata": {
    "collapsed": true
   },
   "outputs": [],
   "source": [
    "yt = y_test\n",
    "yt = yt.to_frame(name=None)\n",
    "yt.reset_index(inplace = True)\n",
    "yt.columns = ['index','true_label']\n",
    "yt['pred'] = y_pred\n",
    "token_data = tokenized_sentences_x.to_frame(name=None)\n",
    "token_data.reset_index(inplace = True)\n",
    "token_data.columns= ['index','data']\n",
    "ty = pd.merge(yt,token_data)\n",
    "\n",
    "ty['Correct prediction'] = ty['true_label'] == ty['pred']\n",
    "rnn_bad_classification = ty[ty['Correct prediction'] == False]\n",
    "rnn_good_classification = ty[ty['Correct prediction'] == True]    \n"
   ]
  },
  {
   "cell_type": "markdown",
   "metadata": {},
   "source": [
    "## Model 2: CNN"
   ]
  },
  {
   "cell_type": "code",
   "execution_count": 75,
   "metadata": {
    "collapsed": true
   },
   "outputs": [],
   "source": [
    "#-Use raw text not encoded or tokenize\n",
    "#new_x new_y\n",
    "import tensorflow as tf\n",
    "import numpy as np\n",
    "from keras.utils.np_utils import to_categorical"
   ]
  },
  {
   "cell_type": "code",
   "execution_count": 76,
   "metadata": {},
   "outputs": [
    {
     "data": {
      "text/plain": [
       "(30903, 30903)"
      ]
     },
     "execution_count": 76,
     "metadata": {},
     "output_type": "execute_result"
    }
   ],
   "source": [
    "docs = []\n",
    "sentences = []\n",
    "sentiments = []\n",
    "\n",
    "for sentences, sentiment in zip(new_x, new_y):\n",
    "    sentences_cleaned = [sent.lower() for sent in sentences]\n",
    "    docs.append(sentences_cleaned)\n",
    "    sentiments.append(sentiment)\n",
    "\n",
    "len(docs), len(sentiments)"
   ]
  },
  {
   "cell_type": "code",
   "execution_count": 77,
   "metadata": {
    "collapsed": true
   },
   "outputs": [],
   "source": [
    "maxlen = 1024 \n",
    "nb_filter = 256\n",
    "dense_outputs = 1024\n",
    "filter_kernels = [7, 7, 3, 3, 3, 3]\n",
    "n_out = 2\n",
    "batch_size = 80\n",
    "nb_epoch = 10"
   ]
  },
  {
   "cell_type": "code",
   "execution_count": 78,
   "metadata": {},
   "outputs": [
    {
     "name": "stdout",
     "output_type": "stream",
     "text": [
      "total chars: 93\n"
     ]
    }
   ],
   "source": [
    "txt = ''\n",
    "for doc in docs:\n",
    "    for s in doc:\n",
    "        txt += s\n",
    "chars = set(txt)\n",
    "vocab_size = len(chars)\n",
    "print('total chars:', len(chars))\n",
    "char_indices = dict((c, i) for i, c in enumerate(chars))\n",
    "indices_char = dict((i, c) for i, c in enumerate(chars))"
   ]
  },
  {
   "cell_type": "code",
   "execution_count": 79,
   "metadata": {
    "collapsed": true
   },
   "outputs": [],
   "source": [
    "from keras.preprocessing.sequence import pad_sequences\n",
    "\n",
    "def vectorize_sentences(data, char_indices):\n",
    "    X = []\n",
    "    for sentences in data:\n",
    "        x = [char_indices[w] for w in sentences]\n",
    "        x2 = np.eye(len(char_indices))[x]\n",
    "        X.append(x2)\n",
    "    return (pad_sequences(X, maxlen=maxlen))\n",
    "\n",
    "news_data = vectorize_sentences(docs,char_indices)\n",
    "news_data.shape\n",
    "ydata = to_categorical(sentiments)\n",
    "\n"
   ]
  },
  {
   "cell_type": "code",
   "execution_count": 80,
   "metadata": {},
   "outputs": [
    {
     "data": {
      "text/plain": [
       "array([[ 1.,  0.],\n",
       "       [ 1.,  0.],\n",
       "       [ 1.,  0.],\n",
       "       ..., \n",
       "       [ 1.,  0.],\n",
       "       [ 1.,  0.],\n",
       "       [ 0.,  1.]])"
      ]
     },
     "execution_count": 80,
     "metadata": {},
     "output_type": "execute_result"
    }
   ],
   "source": [
    "ydata #Why is does it have 2 columns, why not use the old one"
   ]
  },
  {
   "cell_type": "code",
   "execution_count": 81,
   "metadata": {
    "collapsed": true
   },
   "outputs": [],
   "source": [
    "Xtrain, Xtest, ytrain, ytest = train_test_split(news_data, ydata, test_size=0.3, random_state=0)"
   ]
  },
  {
   "cell_type": "code",
   "execution_count": 84,
   "metadata": {},
   "outputs": [
    {
     "name": "stderr",
     "output_type": "stream",
     "text": [
      "/anaconda3/lib/python3.6/site-packages/ipykernel_launcher.py:9: UserWarning: Update your `Conv1D` call to the Keras 2 API: `Conv1D(activation=\"relu\", input_shape=(1024, 93), filters=256, kernel_size=7, padding=\"valid\")`\n",
      "  if __name__ == '__main__':\n",
      "/anaconda3/lib/python3.6/site-packages/ipykernel_launcher.py:10: UserWarning: Update your `MaxPooling1D` call to the Keras 2 API: `MaxPooling1D(pool_size=3)`\n",
      "  # Remove the CWD from sys.path while we load stuff.\n",
      "/anaconda3/lib/python3.6/site-packages/ipykernel_launcher.py:13: UserWarning: Update your `Conv1D` call to the Keras 2 API: `Conv1D(activation=\"relu\", filters=256, kernel_size=7, padding=\"valid\")`\n",
      "  del sys.path[0]\n",
      "/anaconda3/lib/python3.6/site-packages/ipykernel_launcher.py:14: UserWarning: Update your `MaxPooling1D` call to the Keras 2 API: `MaxPooling1D(pool_size=3)`\n",
      "  \n",
      "/anaconda3/lib/python3.6/site-packages/ipykernel_launcher.py:17: UserWarning: Update your `Conv1D` call to the Keras 2 API: `Conv1D(activation=\"relu\", filters=256, kernel_size=3, padding=\"valid\")`\n",
      "/anaconda3/lib/python3.6/site-packages/ipykernel_launcher.py:20: UserWarning: Update your `Conv1D` call to the Keras 2 API: `Conv1D(activation=\"relu\", filters=256, kernel_size=3, padding=\"valid\")`\n",
      "/anaconda3/lib/python3.6/site-packages/ipykernel_launcher.py:23: UserWarning: Update your `Conv1D` call to the Keras 2 API: `Conv1D(activation=\"relu\", filters=256, kernel_size=3, padding=\"valid\")`\n",
      "/anaconda3/lib/python3.6/site-packages/ipykernel_launcher.py:26: UserWarning: Update your `Conv1D` call to the Keras 2 API: `Conv1D(activation=\"relu\", filters=256, kernel_size=3, padding=\"valid\")`\n",
      "/anaconda3/lib/python3.6/site-packages/ipykernel_launcher.py:27: UserWarning: Update your `MaxPooling1D` call to the Keras 2 API: `MaxPooling1D(pool_size=3)`\n",
      "/anaconda3/lib/python3.6/site-packages/ipykernel_launcher.py:39: UserWarning: Update your `Model` call to the Keras 2 API: `Model(inputs=Tensor(\"in..., outputs=Tensor(\"ou...)`\n"
     ]
    }
   ],
   "source": [
    "from keras.models import Model\n",
    "from keras.layers import Input, Dense, Dropout, Flatten\n",
    "from keras.layers.convolutional import Convolution1D, MaxPooling1D\n",
    "\n",
    "inputs = Input(shape=(maxlen, vocab_size), name='input', dtype='float32')\n",
    "\n",
    "conv = Convolution1D(nb_filter=nb_filter, filter_length=filter_kernels[0],\n",
    "                     border_mode='valid', activation='relu',\n",
    "                     input_shape=(maxlen, vocab_size))(inputs)\n",
    "conv = MaxPooling1D(pool_length=3)(conv)\n",
    "\n",
    "conv1 = Convolution1D(nb_filter=nb_filter, filter_length=filter_kernels[1],\n",
    "                      border_mode='valid', activation='relu')(conv)\n",
    "conv1 = MaxPooling1D(pool_length=3)(conv1)\n",
    "\n",
    "conv2 = Convolution1D(nb_filter=nb_filter, filter_length=filter_kernels[2],\n",
    "                      border_mode='valid', activation='relu')(conv1)\n",
    "\n",
    "conv3 = Convolution1D(nb_filter=nb_filter, filter_length=filter_kernels[3],\n",
    "                      border_mode='valid', activation='relu')(conv2)\n",
    "\n",
    "conv4 = Convolution1D(nb_filter=nb_filter, filter_length=filter_kernels[4],\n",
    "                      border_mode='valid', activation='relu')(conv3)\n",
    "\n",
    "conv5 = Convolution1D(nb_filter=nb_filter, filter_length=filter_kernels[5],\n",
    "                      border_mode='valid', activation='relu')(conv4)\n",
    "conv5 = MaxPooling1D(pool_length=3)(conv5)\n",
    "conv5 = Flatten()(conv5)\n",
    "\n",
    "z = Dropout(0.5)(Dense(dense_outputs, activation='relu')(conv5))\n",
    "z = Dropout(0.5)(Dense(dense_outputs, activation='relu')(z))\n",
    "\n",
    "pred = Dense(n_out, activation='sigmoid', name='output')(z)\n",
    "\n",
    "\n",
    "#pred = Dense(n_out, activation='sigmoid', name='output')(z)\n",
    "\n",
    "\n",
    "model = Model(input=inputs, output=pred)\n",
    "\n",
    "model.compile(loss='binary_crossentropy', optimizer='rmsprop',\n",
    "              metrics=['accuracy'])\n",
    "\n",
    "\n",
    "\n",
    "# model.compile(loss='binary_crossentropy', optimizer='rmsprop',\n",
    "#               metrics=['accuracy'])"
   ]
  },
  {
   "cell_type": "code",
   "execution_count": null,
   "metadata": {},
   "outputs": [
    {
     "name": "stdout",
     "output_type": "stream",
     "text": [
      "Epoch 1/3\n",
      "21632/21632 [==============================] - 758s 35ms/step - loss: 0.7075 - acc: 0.4962\n",
      "Epoch 2/3\n",
      "15808/21632 [====================>.........] - ETA: 3:24 - loss: 0.6937 - acc: 0.4964"
     ]
    }
   ],
   "source": [
    "# model.fit(Xtrain, ytrain, batch_size=32,\n",
    "#           epochs=1, validation_split=0.2, verbose=False)\n",
    "\n",
    "model.fit(Xtrain, ytrain, batch_size=64,\n",
    "           epochs=3)\n",
    "cnn_scores = model.evaluate(Xtest, ytest, verbose=0)\n",
    "print(\"CNN Accuracy: %.2f%%\" % (cnn_scores[1]*100))"
   ]
  },
  {
   "cell_type": "markdown",
   "metadata": {},
   "source": [
    "### CNN ACCURACY"
   ]
  },
  {
   "cell_type": "code",
   "execution_count": null,
   "metadata": {},
   "outputs": [],
   "source": [
    "cnn_scores = model.evaluate(Xtest, ytest, verbose=0)\n",
    "print(\"CNN Accuracy: %.2f%%\" % (cnn_scores[1]*100))"
   ]
  },
  {
   "cell_type": "code",
   "execution_count": null,
   "metadata": {
    "collapsed": true
   },
   "outputs": [],
   "source": [
    "ypred = model.predict(Xtest)\n",
    "\n",
    "ypred = (ypred > 0.5).astype(int)"
   ]
  },
  {
   "cell_type": "code",
   "execution_count": null,
   "metadata": {},
   "outputs": [],
   "source": [
    "cnn_precision_recall = precision_recall_fscore_support(ytest, ypred, average='micro')\n",
    "\n",
    "cnn_precision_recall"
   ]
  },
  {
   "cell_type": "code",
   "execution_count": null,
   "metadata": {},
   "outputs": [],
   "source": [
    "print(\"CNN Precision score: %.2f%%\" % (cnn_precision_recall[0]*100))"
   ]
  },
  {
   "cell_type": "code",
   "execution_count": null,
   "metadata": {},
   "outputs": [],
   "source": [
    "print(\"CNN Recall score: %.2f%%\" % (cnn_precision_recall[1]*100))"
   ]
  },
  {
   "cell_type": "code",
   "execution_count": null,
   "metadata": {},
   "outputs": [],
   "source": [
    "print(\"CNN F score: %.2f%%\" % (cnn_precision_recall[2]*100))"
   ]
  },
  {
   "cell_type": "code",
   "execution_count": null,
   "metadata": {
    "collapsed": true
   },
   "outputs": [],
   "source": [
    "yt = ytest\n",
    "yt = yt.to_frame(name=None)\n",
    "yt.reset_index(inplace = True)\n",
    "yt.columns = ['index','true_label']\n",
    "yt['pred'] = ypred\n",
    "token_data = tokenized_sentences_x.to_frame(name=None)\n",
    "token_data.reset_index(inplace = True)\n",
    "token_data.columns= ['index','data']\n",
    "ty = pd.merge(yt,token_data)\n",
    "\n",
    "ty['Correct prediction'] = ty['true_label'] == ty['pred']\n",
    "cnn_bad_classification = ty[ty['Correct prediction'] == False]\n",
    "cnn_good_classification = ty[ty['Correct prediction'] == True]    \n"
   ]
  },
  {
   "cell_type": "markdown",
   "metadata": {},
   "source": [
    "## Model 3: RNN+CNN"
   ]
  },
  {
   "cell_type": "code",
   "execution_count": null,
   "metadata": {
    "collapsed": true
   },
   "outputs": [],
   "source": [
    "from keras.models import Model\n",
    "from keras.layers import Input, Dense, Dropout, Flatten\n",
    "from keras.layers.convolutional import Convolution1D, MaxPooling1D\n",
    "\n",
    "maxlen = 1024 \n",
    "nb_filter = 256\n",
    "dense_outputs = 1024\n",
    "filter_kernels = [7, 7, 3, 3, 3, 3]\n",
    "n_out = 2\n",
    "batch_size = 80\n",
    "nb_epoch = 10\n",
    "\n",
    "# Convolution\n",
    "kernel_size = 5\n",
    "filters = 64\n",
    "pool_size = 4\n",
    "\n",
    "# Training\n",
    "batch_size = 30\n",
    "epochs = 2"
   ]
  },
  {
   "cell_type": "code",
   "execution_count": null,
   "metadata": {
    "collapsed": true
   },
   "outputs": [],
   "source": [
    "model = Sequential()\n",
    "model.add(Embedding(31889, embedding_vecor_length, input_length=max_review_length))\n",
    "model.add(Dropout(0.25))\n",
    "\n",
    "## CNN\n",
    "model.add(Conv1D(filters,\n",
    "                 kernel_size,\n",
    "                 padding='valid',\n",
    "                 activation='relu',\n",
    "                 strides=1))\n",
    "model.add(MaxPooling1D(pool_size=pool_size))\n",
    "\n",
    "      \n",
    "## RNN\n",
    "model.add(LSTM(100))\n",
    "model.add(Dropout(0.2))\n",
    "model.add(Dense(1, activation='sigmoid'))\n",
    "model.compile(loss='binary_crossentropy', optimizer='adam', metrics=['accuracy'])\n",
    "\n",
    "\n"
   ]
  },
  {
   "cell_type": "code",
   "execution_count": null,
   "metadata": {},
   "outputs": [],
   "source": [
    "model.fit(X_train, y_train,\n",
    "          batch_size=batch_size,\n",
    "          epochs=3,\n",
    "          validation_data=(X_test, y_test))"
   ]
  },
  {
   "cell_type": "markdown",
   "metadata": {},
   "source": [
    "####  RNN + CNN ACCURACY"
   ]
  },
  {
   "cell_type": "code",
   "execution_count": null,
   "metadata": {},
   "outputs": [],
   "source": [
    "cnn_rnn_scores = model.evaluate(X_test, y_test, verbose=0)\n",
    "print(\"CNN and RNN Combined Accuracy: %.2f%%\" % (cnn_rnn_scores[1]*100))"
   ]
  },
  {
   "cell_type": "code",
   "execution_count": null,
   "metadata": {},
   "outputs": [],
   "source": [
    "y_pred = model.predict(X_test)\n",
    "\n",
    "y_pred = (y_pred > 0.5).astype(int)\n",
    "\n",
    "cnn_rnn_precision_recall = precision_recall_fscore_support(y_test, y_pred, average='micro')\n",
    "\n",
    "cnn_rnn_precision_recall"
   ]
  },
  {
   "cell_type": "code",
   "execution_count": null,
   "metadata": {},
   "outputs": [],
   "source": [
    "print(\"CNN and RNN Combined Precision score: %.2f%%\" % (cnn_rnn_precision_recall[0]*100))"
   ]
  },
  {
   "cell_type": "code",
   "execution_count": null,
   "metadata": {},
   "outputs": [],
   "source": [
    "print(\"CNN and RNN Combined Recall score: %.2f%%\" % (cnn_rnn_precision_recall[1]*100))"
   ]
  },
  {
   "cell_type": "code",
   "execution_count": null,
   "metadata": {},
   "outputs": [],
   "source": [
    "print(\"CNN and RNN Combined Fscore: %.2f%%\" % (cnn_rnn_precision_recall[2]*100))"
   ]
  },
  {
   "cell_type": "code",
   "execution_count": null,
   "metadata": {
    "collapsed": true
   },
   "outputs": [],
   "source": []
  },
  {
   "cell_type": "code",
   "execution_count": null,
   "metadata": {
    "collapsed": true
   },
   "outputs": [],
   "source": [
    "yt = y_test\n",
    "yt = yt.to_frame(name=None)\n",
    "yt.reset_index(inplace = True)\n",
    "yt.columns = ['index','true_label']\n",
    "yt['pred'] = y_pred\n",
    "token_data = tokenized_sentences_x.to_frame(name=None)\n",
    "token_data.reset_index(inplace = True)\n",
    "token_data.columns= ['index','data']\n",
    "ty = pd.merge(yt,token_data)\n",
    "\n",
    "ty['Correct prediction'] = ty['true_label'] == ty['pred']\n",
    "cnn_rnn_bad_classification = ty[ty['Correct prediction'] == False]\n",
    "cnn_rnn_good_classification = ty[ty['Correct prediction'] == True]    \n",
    "\n",
    "\n"
   ]
  },
  {
   "cell_type": "code",
   "execution_count": null,
   "metadata": {
    "collapsed": true
   },
   "outputs": [],
   "source": []
  },
  {
   "cell_type": "markdown",
   "metadata": {
    "collapsed": true
   },
   "source": [
    "### 4: Compare the performance of all of these models in a table (precision and recall)"
   ]
  },
  {
   "cell_type": "code",
   "execution_count": null,
   "metadata": {
    "collapsed": true
   },
   "outputs": [],
   "source": [
    "#Compare the performance of all of these models in a table (precision and recall)"
   ]
  },
  {
   "cell_type": "code",
   "execution_count": null,
   "metadata": {},
   "outputs": [],
   "source": [
    "import pandas as pd\n",
    "performance_df = {'Index': [1, 2, 3]\n",
    "                 , 'Model': ['RNN' ,'CNN', 'CNN and RNN']\n",
    "                                               \n",
    "                 , 'Precision': [rnn_precision_recall[0] ,cnn_precision_recall[0] , cnn_rnn_precision_recall[0]]\n",
    "                 , 'Recall': [ rnn_precision_recall[1] ,cnn_precision_recall[1] , cnn_rnn_precision_recall[1]]\n",
    "                 , 'Accuracy': [ rnn_scores[1] ,cnn_scores[1] , cnn_rnn_scores[1] ]\n",
    "                  }\n",
    "df = pd.DataFrame(data = performance_df )\n",
    "df.set_index('Index', inplace = True)\n",
    "df"
   ]
  },
  {
   "cell_type": "markdown",
   "metadata": {},
   "source": [
    "### 5: Look at your labeling and print out the underlying data compared to the labels - for each model print out 2-3 examples of a good classification and a bad classification. Make an assertion why your model does well or poorly on those outputs."
   ]
  },
  {
   "cell_type": "markdown",
   "metadata": {},
   "source": [
    "#### Good RNN Prediction"
   ]
  },
  {
   "cell_type": "code",
   "execution_count": null,
   "metadata": {
    "collapsed": true
   },
   "outputs": [],
   "source": [
    "print('Four Good RNN prediction')"
   ]
  },
  {
   "cell_type": "code",
   "execution_count": null,
   "metadata": {
    "collapsed": true
   },
   "outputs": [],
   "source": [
    "rnn_good_classification[:4]"
   ]
  },
  {
   "cell_type": "markdown",
   "metadata": {},
   "source": [
    "#### BAD RNN Prediction"
   ]
  },
  {
   "cell_type": "code",
   "execution_count": null,
   "metadata": {
    "collapsed": true
   },
   "outputs": [],
   "source": [
    "print('Four Good RNN prediction')"
   ]
  },
  {
   "cell_type": "code",
   "execution_count": null,
   "metadata": {
    "collapsed": true
   },
   "outputs": [],
   "source": [
    "rnn_bad_classification[:4]"
   ]
  },
  {
   "cell_type": "markdown",
   "metadata": {},
   "source": [
    "#### Good CNN Prediction"
   ]
  },
  {
   "cell_type": "code",
   "execution_count": null,
   "metadata": {
    "collapsed": true
   },
   "outputs": [],
   "source": [
    "print('Four Good CNN prediction')"
   ]
  },
  {
   "cell_type": "code",
   "execution_count": null,
   "metadata": {
    "collapsed": true
   },
   "outputs": [],
   "source": [
    "cnn_good_classification[:4]"
   ]
  },
  {
   "cell_type": "markdown",
   "metadata": {},
   "source": [
    "#### BAD CNN Prediction"
   ]
  },
  {
   "cell_type": "code",
   "execution_count": null,
   "metadata": {
    "collapsed": true
   },
   "outputs": [],
   "source": [
    "print('Four Bad CNN prediction')"
   ]
  },
  {
   "cell_type": "code",
   "execution_count": null,
   "metadata": {
    "collapsed": true
   },
   "outputs": [],
   "source": [
    "cnn_good_classification[:4]"
   ]
  },
  {
   "cell_type": "markdown",
   "metadata": {},
   "source": [
    "#### Good RNN and CNN Prediction"
   ]
  },
  {
   "cell_type": "code",
   "execution_count": null,
   "metadata": {
    "collapsed": true
   },
   "outputs": [],
   "source": [
    "print('Four Good CNN+RNN prediction')"
   ]
  },
  {
   "cell_type": "code",
   "execution_count": null,
   "metadata": {
    "collapsed": true
   },
   "outputs": [],
   "source": [
    "cnn_rnn_good_classification[:4]"
   ]
  },
  {
   "cell_type": "markdown",
   "metadata": {},
   "source": [
    "#### BAD RNN and CNN Prediction"
   ]
  },
  {
   "cell_type": "code",
   "execution_count": null,
   "metadata": {
    "collapsed": true
   },
   "outputs": [],
   "source": [
    "print('Four Bad CNN+RNN prediction')"
   ]
  },
  {
   "cell_type": "code",
   "execution_count": null,
   "metadata": {
    "collapsed": true
   },
   "outputs": [],
   "source": [
    "cnn_rnn_bad_classification[:4]"
   ]
  },
  {
   "cell_type": "code",
   "execution_count": null,
   "metadata": {
    "collapsed": true
   },
   "outputs": [],
   "source": []
  },
  {
   "cell_type": "code",
   "execution_count": null,
   "metadata": {
    "collapsed": true
   },
   "outputs": [],
   "source": []
  }
 ],
 "metadata": {
  "kernelspec": {
   "display_name": "Python 3",
   "language": "python",
   "name": "python3"
  },
  "language_info": {
   "codemirror_mode": {
    "name": "ipython",
    "version": 3
   },
   "file_extension": ".py",
   "mimetype": "text/x-python",
   "name": "python",
   "nbconvert_exporter": "python",
   "pygments_lexer": "ipython3",
   "version": "3.6.3"
  }
 },
 "nbformat": 4,
 "nbformat_minor": 2
}
